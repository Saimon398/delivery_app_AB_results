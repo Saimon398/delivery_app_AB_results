{
 "cells": [
  {
   "cell_type": "markdown",
   "metadata": {},
   "source": [
    "# Анализ приложения для доставки \n",
    "\n",
    "Команда разработки приложения разработала новую умную систему рекомендации товаров, которая позволяет пользователям эффективнее работать с приложением и лучше находить необходимые товары. Для того, чтобы проверить эффективность новой системы приложений был проведен AB-тест, в котором пользователей разделили на контрольную (0) и тестовую (1) группы. Пользователи в контрольной группе пользовались старой версией приложения, а пользователи в тестовой группе - новой \n",
    "\n",
    "#### Правда ли что новая система рекомендаций улучшила качество сервиса?\n",
    "\n",
    "Давайте узнаем!"
   ]
  },
  {
   "cell_type": "markdown",
   "metadata": {},
   "source": [
    "## Подключение к данным"
   ]
  },
  {
   "cell_type": "code",
   "execution_count": 1,
   "metadata": {},
   "outputs": [],
   "source": [
    "# импорт необходимых библиотек \n",
    "\n",
    "import re\n",
    "import requests\n",
    "import pandas as pd\n",
    "import numpy as np\n",
    "import seaborn as sns\n",
    "import pingouin as pg\n",
    "import matplotlib.pyplot as plt\n",
    "from scipy import stats\n",
    "from urllib import parse\n",
    "from statsmodels.stats.power import TTestIndPower\n",
    "\n",
    "%matplotlib inline"
   ]
  },
  {
   "cell_type": "code",
   "execution_count": 2,
   "metadata": {},
   "outputs": [],
   "source": [
    "# параметры визуализации\n",
    "sns.set(\n",
    "    rc = {\n",
    "        'figure.figsize'  : (17, 8),\n",
    "        'axes.titlesize'  : 16,\n",
    "        'axes.labelsize'  : 14,\n",
    "        'xtick.labelsize' : 12,\n",
    "        'ytick.labelsize' : 12\n",
    "    }\n",
    ")"
   ]
  },
  {
   "cell_type": "code",
   "execution_count": 3,
   "metadata": {},
   "outputs": [],
   "source": [
    "# вспомогательная функция 1\n",
    "\n",
    "def draw_histplot(samples: list, suptitle: str):\n",
    "    \"\"\"\n",
    "    Функция рисует гистограммы распределения для 2-х выборок \n",
    "    \n",
    "    Параметры\n",
    "    ---------\n",
    "    samples:\n",
    "        Контрольная и тестовая выборки\n",
    "    suptitle:\n",
    "        Общее название визуализации\n",
    "    \"\"\"\n",
    "    \n",
    "    figure, axes =  plt.subplots(nrows = 1, ncols = 2, figsize = (16, 5))\n",
    "    colors       = ['mediumpurple', 'forestgreen']\n",
    "    titles       = ['control', 'test']\n",
    "    \n",
    "    for ax, sample, color, title in zip(axes.flatten(), samples, colors, titles):\n",
    "        sns.histplot(sample, color = color, ax = ax, bins = 10)\n",
    "        ax.set_title(title)\n",
    "        ax.grid(True, color='#e2e2e2', alpha=0.5)\n",
    "        \n",
    "    figure.suptitle(suptitle)\n",
    "    \n",
    "    plt.show()\n",
    "    \n",
    "# вспомогательная функция 2\n",
    "    \n",
    "def show_statistics (sample):\n",
    "    \"\"\"\n",
    "    Функция возвращает описательные статистики (среднее, медиану и std) для выборки\n",
    "    \n",
    "    Параметры\n",
    "    ---------\n",
    "    sample:\n",
    "        Выборка\n",
    "        \n",
    "    Возвращаемое значение\n",
    "    ---------------------\n",
    "        Словарь со средним, медианой и стандартным отклонением\n",
    "    \"\"\"\n",
    "    return {\n",
    "        'mean'     : sample.mean(),\n",
    "        'median'   : sample.median(),\n",
    "        'std'      : sample.std(),\n",
    "        'skew'     : sample.skew(),\n",
    "        'kurtosis' : sample.kurtosis()\n",
    "    }\n",
    "\n",
    "# вспомогательная функция 3\n",
    "\n",
    "def calc_pooled_var (control_var: float, test_var: float, nobs1: int, nobs2: int) -> float:\n",
    "    \"\"\"\n",
    "    Функция возвращает общую дисперсию для расчета стандартизированного размера эффекта\n",
    "    \n",
    "    Параметры:\n",
    "    ---------\n",
    "    control_var:\n",
    "        Дисперсия данных в контрольной группе\n",
    "    test_var:\n",
    "        Дисперсия данных в тестовой группе\n",
    "    nobs1:\n",
    "        Размер контрольной группы\n",
    "    nobs2:\n",
    "        Размер тестовой группы \n",
    "    \n",
    "    Возвращаемое значение:\n",
    "    ----------------------\n",
    "        Общая дисперсия двух выборок\n",
    "    \"\"\"\n",
    "    return np.sqrt((((nobs1 - 1) * control_var) + ((nobs2 - 1) * test_var))/(nobs1 + nobs2 - 2))"
   ]
  },
  {
   "cell_type": "code",
   "execution_count": 4,
   "metadata": {},
   "outputs": [],
   "source": [
    "# функция для проведение дельта-метода \n",
    "\n",
    "def check_delta_method(control, test):\n",
    "    \"\"\"\n",
    "    Функция для проведения дельта-метода для сравнения средних ratio-метрик\n",
    "    \n",
    "    Параметры:\n",
    "    ---------\n",
    "    control:\n",
    "        Данные контрольной выборки (выборки без изменений)\n",
    "    test:\n",
    "        Данные тестовой выборки (выборки с изменениями)\n",
    "        \n",
    "    Возвращаемое значение:\n",
    "        p_value\n",
    "    \"\"\"\n",
    "    \n",
    "    info = {}\n",
    "    \n",
    "    for data, name in [(control, 'control'), (test, 'test')]:\n",
    "        \n",
    "        # собираем данные для оценки дисперсии \n",
    "        number_of_objects         = data.user_id.nunique()\n",
    "        prices                    = data.groupby('user_id', as_index=False).agg({'price':'sum'}).price\n",
    "        quantities                = data.groupby('user_id', as_index=False).agg({'order_id':'count'}).order_id\n",
    "        mean_price, mean_quantity = prices.mean(), quantities.mean()\n",
    "        var_price, var_quantity   = np.var(prices), np.var(quantities)\n",
    "        cov_price_quantity        = np.cov(prices, quantities)[0, 1]\n",
    "        \n",
    "        # точечно оцениваем ratio-метрику\n",
    "        pe_metric = np.sum(prices) / np.sum(quantities)\n",
    "       \n",
    "        # оцениваем дисперсию данной метрики \n",
    "        var_metric = (\n",
    "            var_price / mean_quantity ** 2\n",
    "            - 2 * (mean_price / mean_quantity ** 3) * cov_price_quantity\n",
    "            + (mean_price ** 2 / mean_quantity ** 4) * var_quantity\n",
    "        ) / number_of_objects        \n",
    "        \n",
    "        # добавляем параметры в словарь\n",
    "        \n",
    "        info['{}_pe_metric'.format(name)] = pe_metric\n",
    "        info['{}_var_metric'.format(name)] = var_metric\n",
    "        \n",
    "    # проверяем статистическую значимость различий в значениях ratio-метрик\n",
    "    common_var = info['control_var_metric'] + info['test_var_metric']\n",
    "    difference = info['test_pe_metric'] - info['control_pe_metric']\n",
    "    \n",
    "    t          = difference / np.sqrt(common_var)\n",
    "    p_value    = (1 - stats.norm.cdf(np.abs(t))) * 2\n",
    "    \n",
    "    return p_value"
   ]
  },
  {
   "cell_type": "code",
   "execution_count": 5,
   "metadata": {},
   "outputs": [],
   "source": [
    "# формирование ссылок для подключения к данным через Яндекс Диск API\n",
    "\n",
    "base_url   = 'https://cloud-api.yandex.net/v1/disk/public/resources/download?'\n",
    "\n",
    "public_keys = {\n",
    "    'users_data'  : parse.urlencode(dict(public_key='https://disk.yandex.ru/d/4qY27tJ23G_B1g')), # данные о пользователях\n",
    "    'orders_data' : parse.urlencode(dict(public_key='https://disk.yandex.ru/d/prdO8FDQx7lzCg')), # данные о заказах\n",
    "    'items_data'  : parse.urlencode(dict(public_key='https://disk.yandex.ru/d/atwrlmB_wu-fHA'))  # данные о товарах\n",
    "}\n",
    "\n",
    "final_urls = {\n",
    "    'users_data_url'  : base_url + public_keys['users_data'],\n",
    "    'orders_data_url' : base_url + public_keys['orders_data'],\n",
    "    'items_data_url'  : base_url + public_keys['items_data']\n",
    "}"
   ]
  },
  {
   "cell_type": "markdown",
   "metadata": {},
   "source": [
    "Здесь мы подключаемся к данным. Могли бы сделать это в разных ячейках и, если на какой-нибудь ссылке подключение упало, то остальные данные могли бы скачаться. Но (!), нам нужны все данные для анализа, поэтому не имеет смысла загружать их по частям"
   ]
  },
  {
   "cell_type": "code",
   "execution_count": 6,
   "metadata": {},
   "outputs": [],
   "source": [
    "# получение ссылок на скачивание данных через Яндекс Диск API\n",
    "\n",
    "try:\n",
    "    load_urls = {\n",
    "        'users_url'  : requests.get(final_urls['users_data_url']).json()['href'],\n",
    "        'orders_url' : requests.get(final_urls['orders_data_url']).json()['href'],\n",
    "        'items_url'  : requests.get(final_urls['items_data_url']).json()['href']\n",
    "    }\n",
    "except:\n",
    "    print('Какой-то файл не смог скачаться :)')"
   ]
  },
  {
   "cell_type": "code",
   "execution_count": 7,
   "metadata": {},
   "outputs": [],
   "source": [
    "# загружаем данные о пользователях (заранее парсим даты)\n",
    "\n",
    "users_data = pd.read_csv(load_urls['users_url'], parse_dates = ['time', 'date'])"
   ]
  },
  {
   "cell_type": "code",
   "execution_count": 8,
   "metadata": {},
   "outputs": [],
   "source": [
    "# загружаем данные о заказах\n",
    "\n",
    "orders_data = pd.read_csv(load_urls['orders_url'], parse_dates = ['creation_time'])\n",
    "\n",
    "# раскрываем список с товарами в заказах\n",
    "\n",
    "orders_data['product_ids'] = orders_data.product_ids.apply(lambda x: re.sub('[{,}]', '', x).split(' ')) \n",
    "orders_data = orders_data.explode('product_ids').rename(columns = {'product_ids' : 'product_id'}).astype({'product_id':'int64'})"
   ]
  },
  {
   "cell_type": "code",
   "execution_count": 9,
   "metadata": {},
   "outputs": [],
   "source": [
    "# загружаем данные о товарах\n",
    "\n",
    "items_data = pd.read_csv(load_urls['items_url'])"
   ]
  },
  {
   "cell_type": "markdown",
   "metadata": {},
   "source": [
    "## Предварительный анализ данных\n",
    "\n",
    "Перед основной работой с данными их необходимо \"предварительно\" просмотреть, чтобы сформировать первое представление о том, с каким вообще данными мы имеем дело. При поверхностном анализе полученных результатов были сделаны следующие выводы:\n",
    "\n",
    "#### Данные о пользователях\n",
    "\n",
    "- Количество строк: **4337**\n",
    "- Количество столбцов: **6**\n",
    "\n",
    "| Название столбца         |  Что значит | Тип данных | Уникальность в таблице| Количество в дата-фрейме| NULL-значения|\n",
    "|:------------- |:---------------| :-------------:| :--:| :--:|:--: |\n",
    "| user_id          | идентификатор пользователя          | Int64       | Нет| 1017 | Нет|\n",
    "| order_id         | идентификатор заказа         | Int64       |Нет | 4123|Нет|\n",
    "| action         | действие пользователя          | String       | Нет|2 |Нет|\n",
    "| time         | время действия          | Datetime64        | Нет|4312 |Нет|\n",
    "| date        | дата действия          | Datetime64        | Нет| 14|Нет|\n",
    "| group       | группа          | Int64        | Нет| 2|Нет|\n",
    "\n",
    "#### Данные о заказах\n",
    "\n",
    "- Количество строк: **4123**\n",
    "- Количество столбцов: **3**\n",
    "\n",
    "| Название столбца         |  Что значит | Тип данных | Уникальность в таблице| Количество в дата-фрейме| NULL-значения|\n",
    "|:------------- |:---------------| :-------------:| :--:| :--:|:--: |\n",
    "| order_id         | идентификатор заказа         | Int64       |Да | 4123|Нет|\n",
    "| сreation_time         | создание заказа          | Datetime64       | Нет|4098 |Нет|\n",
    "| product_ids       | идентификаторы товаров в заказа          | Object (list)        | Нет| 3877|Нет|\n",
    "\n",
    "#### Данные о товарах\n",
    "\n",
    "- Количество строк: **87**\n",
    "- Количество столбцов: **3**\n",
    "\n",
    "| Название столбца         |  Что значит | Тип данных | Уникальность в таблице| Количество в дата-фрейме| NULL-значения|\n",
    "|:------------- |:---------------| :-------------:| :--:| :--:|:--: |\n",
    "| product_id         | идентификатор товара         | Int64       |Да | 87|Нет|\n",
    "| name        | имя товара          | String       | Да|87 |Нет|\n",
    "| price       | цена товара          | Float64        | Нет| 63|Нет|\n",
    "\n",
    "\n",
    "Видно, что данные собраны нормально и, кажется, что не было ошибок в алгоритме сбора данных, так как соблюдаются (по смыслу) уникальные значения, отсутствуют NULL-значение и типы данных также на местах. Также можем сказать, что размеры выборки приблизительно по **500 человек**"
   ]
  },
  {
   "cell_type": "markdown",
   "metadata": {},
   "source": [
    "## Интерпретация результатов"
   ]
  },
  {
   "cell_type": "markdown",
   "metadata": {},
   "source": [
    "Попробуем поразмыслить в сторону метрик в рамках используемой бизнес-модели. Улучшением качества сервиса для пользователя может считаться нахождение и, соответственно, заказ необходимого для него товара, что в свою очередь будет приносить прибыль для продукта - это win-win. С одной стороны, чем больше покупок сделает пользователь, тем больше прибыли сможет получить продукт, но есть одно большое НО! Если наша рекомендательная система работает таким образом, что предлагает пользователю необходимые ему товары, но по более низкой стоимости, то даже несмотря на увеличение количества покупок пользователями, прибыль для продукта не будет увеличиваться и может как оставаться на том же уровне, что и была, так и снижаться.\n",
    "\n",
    "Нужно чтобы данная система удовлетворяла потребностям как пользователя, так и продукта. Это произойдет, если пользователь делает больше покупок и при этом стоимость его покупок не падает. Получается, что чем больше покупок по той же стоимости (или даже выше), тем больше прибыли получает продукт. Все просто!\n",
    "\n",
    "Соответственно, метриками в рамках монетизации нашей платформы могут выступать:\n",
    "\n",
    "- Количество покупок, сделанные пользователем \n",
    "- Средний чек пользователя\n",
    "- Прибыль с пользователя \n",
    "\n",
    "Таким образом, нужно проверить, что у нас **при увеличении количества покупок, увеличивается или остается неизменным средний чек пользователя. Все это ведет к увеличению прибыли. Profit!**\n",
    "\n",
    "\n",
    "<img src = \"https://assets-global.website-files.com/61bcbae3ae2e8e0565a790d1/62144c21b255406deefa0cff_image2.png\">"
   ]
  },
  {
   "cell_type": "markdown",
   "metadata": {},
   "source": [
    "## Метрика 1: Количество покупок\n",
    "\n",
    "Для начала посмотрим, как новая система рекомендаций влияет на количество заказов, которые делает пользователь. В качестве покупки будем считать неотмененные заказы, то есть заказы без статусa \"cancel_order\". Сравнивать будем средние значения количества покупок в контрольной и тестовой группах\n",
    "\n",
    "- Среднее количество покупок в контрольной группе = 364.25\n",
    "- Среднее количество покупок в тестовой группе = 352.34\n",
    "\n",
    "Для дальнейшего анализа нам необходимо понять, какой статистический критерий для сравнения средних мы будем использовать. У нас есть варианты в виде параметрического и непараметрического тестов, выбор которых будет зависеть от соблюдения определенных условий, необходимых для использования параметрического критерия.\n",
    "\n",
    "- Независимость данных\n",
    "- Нормальность распределения данных\n",
    "- Отсутствие выбросов \n",
    "- Гомогенность дисперсий\n",
    "\n",
    "Проверим, соответствуют ли наши данные перечисленным условиям. Можно сказать, что независимость данных у нас соблюдается, так как количество покупок одного пользователя не влияет на количество покупок другого пользователя. Поэтому перейдем сразу к проверке нормальности распределения, которое будем анализировать как визуально, так и более профессиональными статистическими критериями.\n",
    "\n",
    "#### Метрика 1: Гистограммы распределения \n",
    "\n",
    "Для начала посмотрим гистограммы распределения выборочных данных. Это позволит сделать нам первое предположение о распределении"
   ]
  },
  {
   "cell_type": "code",
   "execution_count": 11,
   "metadata": {},
   "outputs": [],
   "source": [
    "# количество заказов на пользователя\n",
    "\n",
    "purchases_per_user_data = users_data \\\n",
    "    .pivot_table(values='order_id', index=['user_id', 'group'], columns='action', aggfunc = 'count',fill_value = 0) \\\n",
    "    .reset_index() \n",
    "\n",
    "purchases_per_user_data['purchases'] = purchases_per_user_data.create_order - purchases_per_user_data.cancel_order"
   ]
  },
  {
   "cell_type": "code",
   "execution_count": 12,
   "metadata": {},
   "outputs": [],
   "source": [
    "# подготовка выборок \n",
    "\n",
    "control_purchases = purchases_per_user_data.loc[purchases_per_user_data.group == 0].purchases\n",
    "test_purchases    = purchases_per_user_data.loc[purchases_per_user_data.group == 1].purchases"
   ]
  },
  {
   "cell_type": "code",
   "execution_count": 13,
   "metadata": {},
   "outputs": [
    {
     "data": {
      "image/png": "[encoded data removed]",
      "text/plain": [
       "<Figure size 1600x500 with 2 Axes>"
      ]
     },
     "metadata": {},
     "output_type": "display_data"
    }
   ],
   "source": [
    "# построение гистограмм распределения\n",
    "\n",
    "draw_histplot([control_purchases, test_purchases], 'Распределение выборочных данных')"
   ]
  },
  {
   "cell_type": "markdown",
   "metadata": {},
   "source": [
    "#### Метрика 1: Описательные статистики\n",
    "\n",
    "Также давайте посмотрим на описательные статистики 2-х наборов данных, так как это тоже может нам сказать о потенциальном нормальном распределении. У нормального распределения медианное значение должно стремиться к среднему значению, коэффициент эксцесса стремится к 3, а коэффициент ассиметрии - к 0"
   ]
  },
  {
   "cell_type": "code",
   "execution_count": 14,
   "metadata": {},
   "outputs": [
    {
     "data": {
      "text/plain": [
       "{'mean': 2.9650485436893206,\n",
       " 'median': 3.0,\n",
       " 'std': 1.8947864543941753,\n",
       " 'skew': 1.659348054500398,\n",
       " 'kurtosis': 3.6748153264875594}"
      ]
     },
     "execution_count": 14,
     "metadata": {},
     "output_type": "execute_result"
    }
   ],
   "source": [
    "# описательные статистики для контрольной выборки \n",
    "\n",
    "show_statistics(control_purchases)"
   ]
  },
  {
   "cell_type": "code",
   "execution_count": 15,
   "metadata": {},
   "outputs": [
    {
     "data": {
      "text/plain": [
       "{'mean': 4.745019920318725,\n",
       " 'median': 5.0,\n",
       " 'std': 2.146976033267892,\n",
       " 'skew': 0.44282552488067817,\n",
       " 'kurtosis': 0.19439546094123994}"
      ]
     },
     "execution_count": 15,
     "metadata": {},
     "output_type": "execute_result"
    }
   ],
   "source": [
    "# описательные статистики для тестовой выборки \n",
    "\n",
    "show_statistics(test_purchases)"
   ]
  },
  {
   "cell_type": "markdown",
   "metadata": {},
   "source": [
    "Исходя из результатов полученных гистограмм и описательных статистик, можно сказать, что на первый взгляд распределение данных не является нормальным. Однако, необходимо провести проверку более профессиональными статистическими критериями.\n",
    "\n",
    "#### Метрика 1: Статистические критерии\n",
    "\n",
    "- Шапиро-Уилка(для выборок < 1000)\n",
    "- Харке-Бера\n",
    "- Д'агостино (Normal Test)\n",
    "\n",
    "Для проверки выберем какой-нибудь один статистический тест. В данном случае будем использовать критерий Шапиро-Уилка, так как он наиболее чувствителен из всех представленных и параметры наших данных удовлетворяют условиям использования данного критерия (размер выборки < 1000)"
   ]
  },
  {
   "cell_type": "code",
   "execution_count": 18,
   "metadata": {},
   "outputs": [
    {
     "name": "stdout",
     "output_type": "stream",
     "text": [
      "Контрольное распределение: ненормальное\n",
      "Тестовое распределение: ненормальное\n"
     ]
    }
   ],
   "source": [
    "# проверка на нормальность критерием Шапиро-Уилка\n",
    "shapiro = {\n",
    "    'control_p' : stats.shapiro(control_purchases)[1],\n",
    "    'test_p'    : stats.shapiro(test_purchases)[1]\n",
    "}\n",
    "\n",
    "print('Контрольное распределение: {}'.format('ненормальное' if shapiro['control_p'] < 0.05 else 'нормальное'))\n",
    "print('Тестовое распределение: {}'.format('ненормальное' if shapiro['test_p'] < 0.05 else 'нормальное'))"
   ]
  },
  {
   "cell_type": "markdown",
   "metadata": {},
   "source": [
    "- Результаты контрольной группы: stat = 0.84, p_value = 1.47e-22\n",
    "- Результаты тестовой группы: stat = 0.96, p_value = 2.07e-09\n",
    "\n",
    "Согласно полученным результатам проверки нормальности распределения методом Шапиро-Уилка, у нас есть все основания отклонить нулевую гипотезу о нормальности распределения анализируемых данных и сказать, что с большой вероятностью данные распределены ненормально. Из этого следует, что у нас есть несколько вариантов дальнейшего развития событий\n",
    "\n",
    "- Проведение непараметрического теста Манна-Уитни\n",
    "- Преобразование данных путем их логарифмирования или преобразования Бокса-Кокса и дальнейшее проведение t-теста для сравнения средних 2-х независимых выборок\n",
    "- Использование t-критерия Стъюдента в любом случае без каких-либо модификаций имеющихся данных, так как размер нашей выборки (n > 100) и небольшая ассиметрия данных позволяет нам проводить такой тест\n",
    "\n",
    "\n",
    "Попробуем сравнить среднее количество покупок в 2-х группах t-критерием Стъюдента для 2-х независимых выборок. Однако, перед проведением теста необходимо выяснить, обладают ли наши данные в 2-х группа одинаковой изменчивостью или дисперсия в контрольной и тестовой группах неоднородна. Исходя из результатов проверки данных на гомогенность дисперсий определим, будем ли мы использовать стандартную реализацию t-теста или модификацию Уэлча. \n",
    "\n",
    "Для этого будем использовать тест Левена, так как он более робастный к ненормальным распределениям, чем условный тест Бартлетта"
   ]
  },
  {
   "cell_type": "code",
   "execution_count": 19,
   "metadata": {},
   "outputs": [
    {
     "data": {
      "text/plain": [
       "LeveneResult(statistic=16.84374227950037, pvalue=4.3843490662180984e-05)"
      ]
     },
     "execution_count": 19,
     "metadata": {},
     "output_type": "execute_result"
    }
   ],
   "source": [
    "# проверка на гомоскедастичность тестом Левена\n",
    "\n",
    "stats.levene(control_purchases, test_purchases)"
   ]
  },
  {
   "cell_type": "markdown",
   "metadata": {
    "tags": []
   },
   "source": [
    "Проверка гомогенности дисперсий тестом Левена показала, что у нас достаточно оснований отклонить нулевую гипотезу о равенстве дисперсий в 2-х группах, а это значит, что мы будем использовать модификацию Уэлча для проведения t-теста\n",
    "\n",
    "#### Метрика 1: Достоверность результатов\n",
    "\n",
    "Очень важная вещь! Обычно, перед проведением AB-тестов заранее определяется размер выборки (от него зависит, как долго будет идти тест). Он определяется для определенных параметров:\n",
    "\n",
    "- Уровень значимости (1 - alpha): вероятность не найти различия там, где их нет \n",
    "- Мощность эксперимента (1 - beta): вероятность найти различия там, где они есть\n",
    "- Минимальный детектируемый эффект (MDE): минимальный истинный эффект, который можно обнаружить с определенной мощностью эксперимента для определенного уровня статистической значимости \n",
    "\n",
    "Так как у нас на руках уже финальные результаты, мы знаем размер выборки, мощность (как правило, берется на уровне 80, но чем выше, тем лучше) и уровень значимости (alpha = 0.05, но чем ниже, тем лучше). Соотвественно, имея эти вводные мы можем рассчитать минимальный истинный эффект, который аналитики планировали обнаружить с помощью критерия Стъюдента при таких параметрах alpha, beta и размере выборки\n",
    "\n",
    "#### Метрика 1: Расчет MDE"
   ]
  },
  {
   "cell_type": "code",
   "execution_count": 50,
   "metadata": {
    "tags": []
   },
   "outputs": [
    {
     "name": "stdout",
     "output_type": "stream",
     "text": [
      "Минимальный детектируемый эффект для данных параметров: 0.18\n"
     ]
    }
   ],
   "source": [
    "# расчет MDE\n",
    "\n",
    "power_analysis = TTestIndPower()\n",
    "nobs1          = users_data.loc[users_data.group == 0].user_id.nunique()\n",
    "nobs2          = users_data.loc[users_data.group == 1].user_id.nunique()\n",
    "ratio          = nobs2 / nobs1\n",
    "mde            = power_analysis.solve_power(nobs1=nobs1, alpha=0.05, power=0.8, ratio=ratio)\n",
    "\n",
    "print('Минимальный детектируемый эффект для данных параметров: {}'.format(round(mde, 2)))"
   ]
  },
  {
   "cell_type": "markdown",
   "metadata": {},
   "source": [
    "При используемых в нашем случае данных, минимальный истинный эффект, который мы можем обнаружить c вероятностью 80% с такими параметрами alpha, beta и размер выборки n, равняется = 0.18. После того, как мы нашли наши средние по группам можно посчитать lift - насколько у нас изменилась метрика в тестовой группе относительно контрольной группы , а затем посчитать размер эффекта. В данном случае стандартизированный размер эффекта будет лучше отображать отличие тестовой группы от контрольной, так как будет учитывать выборочные дисперсии и размер выборок\n",
    "\n",
    "#### Метрика 1: Относительное изменение метрики (Lift)"
   ]
  },
  {
   "cell_type": "code",
   "execution_count": 52,
   "metadata": {},
   "outputs": [
    {
     "name": "stdout",
     "output_type": "stream",
     "text": [
      "Lift составил 60.03%\n"
     ]
    }
   ],
   "source": [
    "# расчет прироста тестовой метрики относительно контрольной \n",
    "\n",
    "lift = (test_purchases.mean() / control_purchases.mean()) - 1\n",
    "print('Lift составил {}%'.format(round(lift * 100, 2)))"
   ]
  },
  {
   "cell_type": "markdown",
   "metadata": {},
   "source": [
    "Согласно расчету относительный прирост количества покупок в тестовой группе относительно контрольной группы, составил 60.03%\n",
    "\n",
    "#### Метрика 1: Стандартизированный размер эффекта"
   ]
  },
  {
   "cell_type": "code",
   "execution_count": 53,
   "metadata": {
    "tags": []
   },
   "outputs": [
    {
     "name": "stdout",
     "output_type": "stream",
     "text": [
      "Стандартизированный размер эффекта, выявленный в результате эксперимента: 0.88\n"
     ]
    }
   ],
   "source": [
    "# расчет полученного размера эффекта\n",
    "\n",
    "# дисперсии данных в контрольной и тестовой группах\n",
    "control_var = control_purchases.var()\n",
    "test_var    = test_purchases.var()\n",
    "\n",
    "# общая дисперсия\n",
    "pooled_var  = calc_pooled_var(control_var, test_var, nobs1, nobs2)\n",
    "\n",
    "# размер эффекта\n",
    "effect_size = (test_purchases.mean() - control_purchases.mean()) / pooled_var\n",
    "\n",
    "print('Стандартизированный размер эффекта, выявленный в результате эксперимента: {}'.format(round(effect_size, 2)))"
   ]
  },
  {
   "cell_type": "markdown",
   "metadata": {},
   "source": [
    "В результате эксперимента мы получили, что размер эффекта, полученный в результате внедрения новой рекомендательной системы, для такой метрики, как количество покупок на пользователя, составляет 0.88. В данном случае он показывает степень отклонения наблюдаемых значений метрики от тех, которые можно было бы ожидать при отсуствии эффекта. Согласно таблице интерпретации размеров эффекта Коэна, полученный размер эффекта между 2-мя выборочными данными является довольно-таки значительным и уж точно больше, чем определяемый нами минимально детектируемый эффект при используемых параметрах уровня значимости, мощности и размера выборки. Из этого следует, что мы можем доверять ррезультатам нашего A/Б-тестирования.\n",
    "\n",
    "Тест Левена показал, что у нас достаточно оснований отклонить нулевую гипотезу о равенстве дисперсий в 2-х выборках, а это значит, что, если мы будем использовать T-Test, то нужно брать модификацию Уэлча для данного теста."
   ]
  },
  {
   "cell_type": "markdown",
   "metadata": {},
   "source": [
    "<img src = \"https://www.researchgate.net/publication/344626794/figure/tbl2/AS:946094485815298@1602577911175/Cohens-Effect-Size-Ranges-and-Their-Meanings.png\">\n"
   ]
  },
  {
   "cell_type": "markdown",
   "metadata": {},
   "source": [
    "#### Метрика 1: Сравнение 2-х средних t-критерием Уэлча\n"
   ]
  },
  {
   "cell_type": "code",
   "execution_count": 54,
   "metadata": {},
   "outputs": [
    {
     "data": {
      "text/plain": [
       "Ttest_indResult(statistic=-14.004857145357283, pvalue=8.436864886644697e-41)"
      ]
     },
     "execution_count": 54,
     "metadata": {},
     "output_type": "execute_result"
    }
   ],
   "source": [
    "# тест Уэлча для выборок с неоднородными дисперсиями\n",
    "\n",
    "stats.ttest_ind(control_purchases, test_purchases, equal_var = False)"
   ]
  },
  {
   "cell_type": "markdown",
   "metadata": {},
   "source": [
    "Результаты обеих статистических проверок говорят о том, что имеются все основания отклонить нулевую гипотезу о равенстве среднего количества покупок в 2-х группах, и что различия между ними статистически значимы. Из этого следует, что **в группе с новой системой рекомендации товаров среднее количество покупок, совершаемых пользователем выше, чем в группе со старым алгоритмом**. \n",
    "\n",
    "## 2. Средний чек пользователя\n",
    "\n",
    "Теперь проверим, траты пользователей, так как количество покупок может вырасти, но покупаемые товары станут дешевле. Например, пользователь мог раньше покупать 1 товар по 300 рублей, а теперь покупает 2 товара по 150 рублей или 3 товара за 100 рублей - в таком случае количество покупок выросло, но средний чек пользователя стал меньше. Для нашей компании это может быть невыгодно, так как теперь наши курьеры больше загружены (расходы могут стать больше), но прибыли с этого больше не стало. Поэтому нужно выяснить, как изменились средний чек для наших пользователей\n",
    "\n",
    "Для того, чтобы посмотреть средние траты пользователя необходимо сначала подготовить данные. Для этого нужно объединить данные по пользователям и данные по заказам и товарам, рассчитать нужный показатель для пользователя, а после разбить данные на группы (разбивка последним шагом, чтобы не делать расчет 2 раза).\n",
    "\n",
    "#### Метрика 2: Сравнение средних чеков дельта-методом "
   ]
  },
  {
   "cell_type": "markdown",
   "metadata": {},
   "source": [
    "В данном случае мы будем работать с метриками отношения (ratio-метриками) и для их сравнения мы не сможем использовать простой t-критерий Стъюдента, так как присутствуют зависимые данные. Данные о покупках разных пользователей с большой вероятностью не являются зависимыми, но данные о покупках одного пользователя (присутствуют в наших данных) вероятнее всего будут зависимы. Обычный критерий t-Стъюдента не сработает, потому что он не учитывает дисперсию зависимых данных.\n",
    "\n",
    "Для проведения сравнения ratio-метрик можно использовать Bootstrap, но на больших данных он будет очень ресурсозатратен. Мы будем использовать дельта-метод для метрик отношения, в котором будет следующая формула оценки дисперсии зависимых данных:\n",
    "\n",
    "<img src = \"https://habrastorage.org/r/w1560/getpro/habr/upload_files/164/709/8b8/1647098b8e9ffb14c5c250cb0c376d89.png\" alt = \"Формула для оценки дисперсии ratio-метрики\">\n",
    "\n",
    "После оценки дисперсии по вышеуказанной формуле, проводим сравнение 2-х средних значений по формуле ниже\n",
    "\n",
    "<img src = \"https://habrastorage.org/getpro/habr/upload_files/a05/378/c91/a05378c91eee426dbde1453c438a0c21.svg\" alt = \"Формула расчета t-критерия Стъюдента с дисперсией для зависимых данных\">"
   ]
  },
  {
   "cell_type": "code",
   "execution_count": 22,
   "metadata": {},
   "outputs": [],
   "source": [
    "# объединение данных по заказам с данными по товарам\n",
    "\n",
    "total_orders_data = orders_data.merge(items_data, how = 'left', on = 'product_id')"
   ]
  },
  {
   "cell_type": "code",
   "execution_count": 23,
   "metadata": {},
   "outputs": [],
   "source": [
    "# объединение данных по пользователям с данными по заказам\n",
    "\n",
    "data = users_data.merge(total_orders_data, how = 'left', on = 'order_id')"
   ]
  },
  {
   "cell_type": "code",
   "execution_count": 24,
   "metadata": {},
   "outputs": [],
   "source": [
    "# формирование выборок \n",
    "\n",
    "control_aov = data.loc[data.group == 0].groupby(['user_id', 'order_id'], as_index=False).agg({'price':'sum'})\n",
    "test_aov = data.loc[data.group == 1].groupby(['user_id', 'order_id'], as_index=False).agg({'price':'sum'})"
   ]
  },
  {
   "cell_type": "code",
   "execution_count": 25,
   "metadata": {},
   "outputs": [
    {
     "data": {
      "text/plain": [
       "0.25240897623635994"
      ]
     },
     "execution_count": 25,
     "metadata": {},
     "output_type": "execute_result"
    }
   ],
   "source": [
    "# расчет p_value дельта-методом \n",
    "\n",
    "check_delta_method(control_aov, test_aov)"
   ]
  },
  {
   "cell_type": "markdown",
   "metadata": {},
   "source": [
    "Исходя из результатов сравнения 2-х средних чеков (ratio-метрик) в контрольной и тестовой группах при помощи дельта-метода, можно сделать вывод, что статистически значимые различия между средними чеками отсутствуют и у нас недостаточно оснований отклонить нулевую гипотезу об их равенстве.  Можно предположить, что **средний чек пользователя в 2-х группах не отличается друг от друга**. Тогда мы знаем, что **количество покупок на пользователя в тестовой группе преобладает**, и следовательно средняя прибыль с пользователя должна в тестовой группе также быть выше. Давайте проверим эту гипотезу!\n",
    "\n",
    "<img src = 'https://gifdb.com/images/high/let-s-go-let-s-do-this-dwight-schrute-781hy0bq8jb4kr64.gif'>\n",
    "\n",
    "\n",
    "## 3. Прибыль с пользователя"
   ]
  },
  {
   "cell_type": "code",
   "execution_count": 39,
   "metadata": {},
   "outputs": [],
   "source": [
    "# подготовка данных для анализа прибыли с пользователя\n",
    "\n",
    "revenue_per_user = data \\\n",
    "    .pivot_table(\n",
    "        values     = 'price',\n",
    "        index      = ['user_id', 'order_id', 'group'],\n",
    "        columns    = 'action',\n",
    "        aggfunc    = 'sum',\n",
    "        fill_value = 0\n",
    "    ) \\\n",
    "    .reset_index()\n",
    "\n",
    "revenue_per_user = revenue_per_user \\\n",
    "    .assign(total_revenue = revenue_per_user.create_order - revenue_per_user.cancel_order) \\\n",
    "    .groupby(['user_id', 'group'], as_index=False) \\\n",
    "    .agg({'total_revenue' : 'sum'}) "
   ]
  },
  {
   "cell_type": "code",
   "execution_count": 40,
   "metadata": {},
   "outputs": [],
   "source": [
    "# выборки\n",
    "\n",
    "control_revenue = revenue_per_user.loc[revenue_per_user.group == 0].total_revenue\n",
    "test_revenue    = revenue_per_user.loc[revenue_per_user.group == 1].total_revenue"
   ]
  },
  {
   "cell_type": "markdown",
   "metadata": {},
   "source": [
    "И снова тот же алгоритм, что и для анализа предыдущих метрик. Сперва посмотрим на распределения, затем на гомогенность дисперсий, выберем критерий и сравним 2 метрики друг с другом. \n",
    "\n",
    "#### 3.1 Гистограммы распределения \n",
    "\n",
    "Как в случае со средним значением количества покупок гипотезу о равенстве средних значений прибыли в контрольной и тестовой группах мы будем проверять одним из параметрических или непараметрических вариантов. Для того, чтобы определлиться с методом необходимо посмотреть, удовлетворяют ли данные в обеих группах условиям для проведения сравнения параметрическим критерием, а именно t-критерием Стъюдента\n",
    "\n",
    "- Независимость данных\n",
    "- Нормальность распределения\n",
    "- Отсутствие выбросов\n",
    "- Гомогенность дисперсий\n",
    "\n",
    "Сперва проверим соответствуют ли распределения данных из контрольной и тестовых групп нормальному распрелелению. Проверять будем различными способами, как графическими, так и статистическими критериями.\n",
    "\n",
    "#### Метрика 3: Гистограммы распределения"
   ]
  },
  {
   "cell_type": "code",
   "execution_count": 41,
   "metadata": {},
   "outputs": [
    {
     "data": {
      "image/png": "[encoded data removed]",
      "text/plain": [
       "<Figure size 1600x500 with 2 Axes>"
      ]
     },
     "metadata": {},
     "output_type": "display_data"
    }
   ],
   "source": [
    "# построение гистограмм распределения\n",
    "\n",
    "draw_histplot([control_revenue, test_revenue], 'Распределение прибыли с пользователя')"
   ]
  },
  {
   "cell_type": "markdown",
   "metadata": {},
   "source": [
    "#### Метрика 3: Описательные статистики"
   ]
  },
  {
   "cell_type": "code",
   "execution_count": 42,
   "metadata": {},
   "outputs": [
    {
     "data": {
      "text/plain": [
       "{'mean': 1132.924077669903,\n",
       " 'median': 951.1999999999999,\n",
       " 'std': 812.0949213526962,\n",
       " 'skew': 1.5339494331957302,\n",
       " 'kurtosis': 3.690709473664561}"
      ]
     },
     "execution_count": 42,
     "metadata": {},
     "output_type": "execute_result"
    }
   ],
   "source": [
    "# описательные статистики для контрольной выборки \n",
    "\n",
    "show_statistics(control_revenue)"
   ]
  },
  {
   "cell_type": "code",
   "execution_count": 43,
   "metadata": {},
   "outputs": [
    {
     "data": {
      "text/plain": [
       "{'mean': 1750.25577689243,\n",
       " 'median': 1628.8999999999999,\n",
       " 'std': 931.1293648512634,\n",
       " 'skew': 0.5136119529003585,\n",
       " 'kurtosis': -0.1707536678299859}"
      ]
     },
     "execution_count": 43,
     "metadata": {},
     "output_type": "execute_result"
    }
   ],
   "source": [
    "# описательные статистики для тестовой выборки \n",
    "\n",
    "show_statistics(test_revenue)"
   ]
  },
  {
   "cell_type": "markdown",
   "metadata": {},
   "source": [
    "#### Метрика 3: QQ-Plots"
   ]
  },
  {
   "cell_type": "markdown",
   "metadata": {},
   "source": [
    "figure, axes = plt.subplots(nrows = 1, ncols = 2, figsize = (16, 5))\n",
    "samples      = [control_revenue, test_revenue]\n",
    "titles       = ['Control', 'Test']\n",
    "\n",
    "for ax, sample, title in zip(axes.flatten(), samples, titles):\n",
    "    pg.qqplot(sample, ax = ax)\n",
    "    ax.set_title(title)"
   ]
  },
  {
   "cell_type": "markdown",
   "metadata": {},
   "source": [
    "На основании результатов построенной выше визуализации, а также результатов описательных статистик, можно сделать предварительный вывод о том, что распределение данных о прибыли, которую приносит пользователь, не соответствует нормальному, как в контрольной, так и в тестовой группах. Проведем еще одну проверки статистическим критерием Шапиро-Уилка (выбрали его, так как он наиболее чувствителен среди остальных критериев)\n",
    "\n",
    "#### Метрика 3: Статистические критерии"
   ]
  },
  {
   "cell_type": "code",
   "execution_count": 47,
   "metadata": {},
   "outputs": [
    {
     "name": "stdout",
     "output_type": "stream",
     "text": [
      "Контрольное распределение: ненормальное\n",
      "Тестовое распределение: ненормальное\n"
     ]
    }
   ],
   "source": [
    "# проверка на нормальность критерием Шапиро-Уилка\n",
    "\n",
    "shapiro = {\n",
    "    'control_p' : stats.shapiro(control_revenue)[1],\n",
    "    'test_p'    : stats.shapiro(test_revenue)[1]\n",
    "}\n",
    "\n",
    "print('Контрольное распределение: {}'.format('ненормальное' if shapiro['control_p'] < 0.05 else 'нормальное'))\n",
    "print('Тестовое распределение: {}'.format('ненормальное' if shapiro['test_p'] < 0.05 else 'нормальное'))"
   ]
  },
  {
   "cell_type": "markdown",
   "metadata": {},
   "source": [
    "Критерий Шапиро-Уилка продемонстрировал следующие результаты:\n",
    "\n",
    "- Контрольная группа: stat = 0.891, p_value = 1.232e-18\n",
    "- Тестовая группа: stat = 0.976, p_value = 2.221e-07\n",
    "\n",
    "Результаты проверки данных с помощью критерия Шапиро-Уилка говорят о том, что у нас есть все основания отклонить нулевую гипотезу о нормальности распределения данных как в контрольной, так и в тестовой группах. Для дальнейшего анализа данных мы можем использовать как непараметрический критерий Манна-Уитни, так и все еще придерживаться стратегии использования t-критерия Стъюдента для сравнения средней прибыли с пользователя - размер выборки позволяет нам это сделать, да и распределение наших данных не такие уж ассиметричные. Однако, необходимо понять, что у нас с гомогенностью дисперсий в 2-х выборках и для этого мы будем использовать критерий Левена, так как он более робастный к отклонениям от нормальности, нежели критерий Бартлетта"
   ]
  },
  {
   "cell_type": "code",
   "execution_count": 55,
   "metadata": {},
   "outputs": [
    {
     "data": {
      "text/plain": [
       "LeveneResult(statistic=18.406505429334597, pvalue=1.9550073151277537e-05)"
      ]
     },
     "execution_count": 55,
     "metadata": {},
     "output_type": "execute_result"
    }
   ],
   "source": [
    "# проверка на гомоскедастичность тестом Левена\n",
    "\n",
    "stats.levene(control_revenue, test_revenue)"
   ]
  },
  {
   "cell_type": "markdown",
   "metadata": {},
   "source": [
    "Проверка на нормальность и гомоскедастичность наших выборочных данных показала, что данные распределены ненормально и дисперсии между выборками статистически значимо различаются. Следовательно для оценки среднего используем модификацию t-критерия Уэлча. \n",
    "\n",
    "Как и в случае со сравнением количества покупок в контрольной и тестовой группах необходимо проверить минимальный детектируемый эффект, который при используемых параметрах хотели посмотреть аналитики платформы, и сравнить его с полученным стандартизированным размером эффекта. \n",
    "\n",
    "#### Метрика 3: Относительное изменение метрики"
   ]
  },
  {
   "cell_type": "code",
   "execution_count": 44,
   "metadata": {},
   "outputs": [
    {
     "name": "stdout",
     "output_type": "stream",
     "text": [
      "Lift составил 54.49%\n"
     ]
    }
   ],
   "source": [
    "# расчет изменения метрики в тестовой группе относительно контрольной группы\n",
    "\n",
    "lift = (test_revenue.mean() / control_revenue.mean()) - 1\n",
    "print('Lift составил {}%'.format(round(lift * 100, 2)))"
   ]
  },
  {
   "cell_type": "markdown",
   "metadata": {},
   "source": [
    "#### Метрика 3: Стандартизированный размер эффекта"
   ]
  },
  {
   "cell_type": "code",
   "execution_count": 45,
   "metadata": {},
   "outputs": [
    {
     "name": "stdout",
     "output_type": "stream",
     "text": [
      "Стандартизированный размер эффекта, выявленный в результате эксперимента: 0.71\n"
     ]
    }
   ],
   "source": [
    "# расчет стандартизированного размера эффекта \n",
    "\n",
    "# выборочные дисперсии\n",
    "control_var = control_revenue.var()\n",
    "test_var    = test_revenue.var()\n",
    "\n",
    "# общая дисперсия для 2-х групп\n",
    "pooled_var  = calc_pooled_var(control_var, test_var, nobs1, nobs2)\n",
    "\n",
    "# расчет эффекта \n",
    "effect_size = (test_revenue.mean() - control_revenue.mean()) / pooled_var\n",
    "\n",
    "print('Стандартизированный размер эффекта, выявленный в результате эксперимента: {}'.format(round(effect_size, 2)))"
   ]
  },
  {
   "cell_type": "markdown",
   "metadata": {},
   "source": [
    "Согласно шкале интерпретации эффекта Коэна - это довольно-таки большой эффект. Сравнивая его с MDE (0.175) можем заключить, что вероятность обнаружения такого эфффекта довольно-таки высокая, а значит мы можем доверять результатам нашего AB-тестирования"
   ]
  },
  {
   "cell_type": "markdown",
   "metadata": {},
   "source": [
    "#### Метрика 3: Сравнение 2-х средних t-критерием Уэлча"
   ]
  },
  {
   "cell_type": "code",
   "execution_count": 49,
   "metadata": {},
   "outputs": [
    {
     "data": {
      "text/plain": [
       "Ttest_indResult(statistic=-11.256494700536772, pvalue=9.627796378033664e-28)"
      ]
     },
     "execution_count": 49,
     "metadata": {},
     "output_type": "execute_result"
    }
   ],
   "source": [
    "# тест Уэлча для выборок с неоднородными дисперсиями\n",
    "\n",
    "stats.ttest_ind(control_revenue, test_revenue, equal_var = False)"
   ]
  },
  {
   "cell_type": "markdown",
   "metadata": {},
   "source": [
    "Проверка показала, что есть все основания отклонить нулевую гипотезу о равенстве средних значения в тестовой и контрольной группах и сделать вывод о том, что средние значения прибыли  статистически значимо различаются. Предполагаем, что прибыль и правда выросла за счет того, что люди стали совершать больше покупок, а не за счет покупок более дорогих товаров. \n",
    "\n",
    "<img src = 'https://imgflip.com/s/meme/Money-Money.jpg'>\n",
    "\n",
    "\n",
    "## Выводы"
   ]
  },
  {
   "cell_type": "markdown",
   "metadata": {},
   "source": [
    "На основе полученных результатов, можно сделать следующий вывод. Анализ показал, что в тестовой группе пользователи делают больше заказов, нежели в контрольной группе. При этом также было доказано, что данное отклонение количества покупок в тестовой группе от такой же метрики в контрольной группе, можно обнаружить с довольно-таки большой вероятностью. \n",
    "\n",
    "Однако, при проверке различий между величиной среднего чека в тестовой и контрольной группах, было выяснено, что используемые параметры анализа (уровень значимости, мощность теста и размер выборки) не позволяет избежать значительной вероятноси ошибки II рода и не найти статистически значимые различия там, где они действительно есть. Критерий Стъюдента показал, что статистически значимых различий между 2-мя метриками нет, однако принимая во внимание размер MDE, вероятность ошибки очень велика. \n",
    "\n",
    "\n",
    "Далее, мы сделали предположение, что различий между средними чеками в 2-х группах правда может не быть, а так как количество покупок в тестовой группе увеличилось, что можно предположить, что вырастет и общая прибыль с пользователя. Сравнение средних значений в 2-х группах также подвердило эту гипотезу (effect_size < MDE, p_value <0.05)\n",
    "\n",
    "\n",
    "Следовательно, пользователи в тестовой группе не просто покупают больше товаров, а еще и делают это по той же стоимости, что и пользователи в контрольной группе. В результате, это приносит платформе больше прибыли, что так же было статистически подтверждено. Поэтому можем сказать, что новая рекомендательная система очень полезна как для пользователя (теперь он чаще находит необходимые ему товары), так и для продукта (приносит ему дополнительную прибыль). **Можно провести еще одно тестирование, но с выборкой большего размера, и если результаты анализа также покажут, что различий между средними чеками в 2-х группах нет, то внедрять ее в production**"
   ]
  }
 ],
 "metadata": {
  "kernelspec": {
   "display_name": "Python 3 (ipykernel)",
   "language": "python",
   "name": "python3"
  },
  "language_info": {
   "codemirror_mode": {
    "name": "ipython",
    "version": 3
   },
   "file_extension": ".py",
   "mimetype": "text/x-python",
   "name": "python",
   "nbconvert_exporter": "python",
   "pygments_lexer": "ipython3",
   "version": "3.11.4"
  }
 },
 "nbformat": 4,
 "nbformat_minor": 4
}
