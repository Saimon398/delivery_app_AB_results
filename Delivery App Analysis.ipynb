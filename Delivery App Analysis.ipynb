{
 "cells": [
  {
   "cell_type": "markdown",
   "metadata": {},
   "source": [
    "# Анализ приложения для доставки \n",
    "\n",
    "Команда разработки приложения разработала новую умную систему рекомендации товаров, которая позволяет пользователям эффективнее работать с приложением и лучше находить необходимые товары. Для того, чтобы проверить эффективность новой системы приложений был проведен AB-тест, в котором пользователей разделили на контрольную (0) и тестовую (1) группы. Пользователи в контрольной группе пользовались старой версией приложения, а пользователи в тестовой группе - новой \n",
    "\n",
    "#### Правда ли что новая система рекомендаций улучшила качество сервиса?\n",
    "\n",
    "Давайте узнаем!"
   ]
  },
  {
   "cell_type": "markdown",
   "metadata": {},
   "source": [
    "## Подключение к данным"
   ]
  },
  {
   "cell_type": "code",
   "execution_count": 1,
   "metadata": {},
   "outputs": [],
   "source": [
    "# импорт необходимых библиотек \n",
    "\n",
    "import re\n",
    "import requests\n",
    "import pandas as pd\n",
    "import numpy as np\n",
    "import seaborn as sns\n",
    "import pingouin as pg\n",
    "import matplotlib.pyplot as plt\n",
    "from scipy import stats\n",
    "from urllib import parse\n",
    "from statsmodels.stats.power import TTestIndPower\n",
    "\n",
    "%matplotlib inline"
   ]
  },
  {
   "cell_type": "code",
   "execution_count": 2,
   "metadata": {},
   "outputs": [],
   "source": [
    "# параметры визуализации\n",
    "sns.set(\n",
    "    rc = {\n",
    "        'figure.figsize'  : (17, 8),\n",
    "        'axes.titlesize'  : 16,\n",
    "        'axes.labelsize'  : 14,\n",
    "        'xtick.labelsize' : 12,\n",
    "        'ytick.labelsize' : 12\n",
    "    }\n",
    ")"
   ]
  },
  {
   "cell_type": "code",
   "execution_count": 3,
   "metadata": {},
   "outputs": [],
   "source": [
    "# вспомогательная функция 1\n",
    "\n",
    "def draw_histplot(samples: list, suptitle: str):\n",
    "    \"\"\"\n",
    "    Функция рисует гистограммы распределения для 2-х выборок \n",
    "    \n",
    "    Параметры\n",
    "    ---------\n",
    "    samples:\n",
    "        Контрольная и тестовая выборки\n",
    "    suptitle:\n",
    "        Общее название визуализации\n",
    "    \"\"\"\n",
    "    \n",
    "    figure, axes =  plt.subplots(nrows = 1, ncols = 2, figsize = (16, 5))\n",
    "    colors       = ['mediumpurple', 'forestgreen']\n",
    "    titles       = ['control', 'test']\n",
    "    \n",
    "    for ax, sample, color, title in zip(axes.flatten(), samples, colors, titles):\n",
    "        sns.histplot(sample, color = color, ax = ax, bins = 10)\n",
    "        ax.set_title(title)\n",
    "        ax.grid(True, color='#e2e2e2', alpha=0.5)\n",
    "        \n",
    "    figure.suptitle(suptitle)\n",
    "    \n",
    "    plt.show()\n",
    "    \n",
    "# вспомогательная функция 2\n",
    "    \n",
    "def show_statistics (sample):\n",
    "    \"\"\"\n",
    "    Функция возвращает описательные статистики (среднее, медиану и std) для выборки\n",
    "    \n",
    "    Параметры\n",
    "    ---------\n",
    "    sample:\n",
    "        Выборка\n",
    "        \n",
    "    Возвращаемое значение\n",
    "    ---------------------\n",
    "        Словарь со средним, медианой и стандартным отклонением\n",
    "    \"\"\"\n",
    "    return {\n",
    "        'mean'     : sample.mean(),\n",
    "        'median'   : sample.median(),\n",
    "        'std'      : sample.std(),\n",
    "        'skew'     : sample.skew(),\n",
    "        'kurtosis' : sample.kurtosis()\n",
    "    }\n",
    "\n",
    "# вспомогательная функция 3\n",
    "\n",
    "def calc_pooled_var (control_var: float, test_var: float, nobs1: int, nobs2: int) -> float:\n",
    "    \"\"\"\n",
    "    Функция возвращает общую дисперсию для расчета стандартизированного размера эффекта\n",
    "    \n",
    "    Параметры:\n",
    "    ---------\n",
    "    control_var:\n",
    "        Дисперсия данных в контрольной группе\n",
    "    test_var:\n",
    "        Дисперсия данных в тестовой группе\n",
    "    nobs1:\n",
    "        Размер контрольной группы\n",
    "    nobs2:\n",
    "        Размер тестовой группы \n",
    "    \n",
    "    Возвращаемое значение:\n",
    "    ----------------------\n",
    "        Общая дисперсия двух выборок\n",
    "    \"\"\"\n",
    "    return np.sqrt((((nobs1 - 1) * control_var) + ((nobs2 - 1) * test_var))/(nobs1 + nobs2 - 2))"
   ]
  },
  {
   "cell_type": "code",
   "execution_count": 53,
   "metadata": {},
   "outputs": [],
   "source": [
    "# функция для проведение дельта-метода \n",
    "\n",
    "def check_delta_method(control, test):\n",
    "    \"\"\"\n",
    "    Функция для проведения дельта-метода для сравнения средних ratio-метрик\n",
    "    \n",
    "    Параметры:\n",
    "    ---------\n",
    "    control:\n",
    "        Данные контрольной выборки (выборки без изменений)\n",
    "    test:\n",
    "        Данные тестовой выборки (выборки с изменениями)\n",
    "        \n",
    "    Возвращаемое значение:\n",
    "        p_value\n",
    "    \"\"\"\n",
    "    \n",
    "    info = {}\n",
    "    \n",
    "    for data, name in [(control, 'control'), (test, 'test')]:\n",
    "        \n",
    "        # собираем данные для оценки дисперсии \n",
    "        number_of_objects         = data.user_id.nunique()\n",
    "        prices                    = data.groupby('user_id', as_index=False).agg({'price':'sum'}).price\n",
    "        quantities                = data.groupby('user_id', as_index=False).agg({'order_id':'count'}).order_id\n",
    "        mean_price, mean_quantity = prices.mean(), quantities.mean()\n",
    "        var_price, var_quantity   = np.var(prices), np.var(quantities)\n",
    "        cov_price_quantity        = np.cov(prices, quantities)[0, 1]\n",
    "        \n",
    "        # точечно оцениваем ratio-метрику\n",
    "        pe_metric = np.sum(prices) / np.sum(quantities)\n",
    "       \n",
    "        # оцениваем дисперсию данной метрики \n",
    "        var_metric = (\n",
    "            var_price / mean_quantity ** 2\n",
    "            - 2 * (mean_price / mean_quantity ** 3) * cov_price_quantity\n",
    "            + (mean_price ** 2 / mean_quantity ** 4) * var_quantity\n",
    "        ) / number_of_objects        \n",
    "        \n",
    "        # добавляем параметры в словарь\n",
    "        \n",
    "        info['{}_pe_metric'.format(name)] = pe_metric\n",
    "        info['{}_var_metric'.format(name)] = var_metric\n",
    "        \n",
    "    # проверяем статистическую значимость различий в значениях ratio-метрик\n",
    "    common_var = info['control_var_metric'] + info['test_var_metric']\n",
    "    difference = info['test_pe_metric'] - info['control_pe_metric']\n",
    "    \n",
    "    t          = difference / np.sqrt(common_var)\n",
    "    p_value    = (1 - stats.norm.cdf(np.abs(t))) * 2\n",
    "    \n",
    "    return p_value"
   ]
  },
  {
   "cell_type": "code",
   "execution_count": 4,
   "metadata": {},
   "outputs": [],
   "source": [
    "# формирование ссылок для подключения к данным через Яндекс Диск API\n",
    "\n",
    "base_url   = 'https://cloud-api.yandex.net/v1/disk/public/resources/download?'\n",
    "\n",
    "public_keys = {\n",
    "    'users_data'  : parse.urlencode(dict(public_key='https://disk.yandex.ru/d/4qY27tJ23G_B1g')), # данные о пользователях\n",
    "    'orders_data' : parse.urlencode(dict(public_key='https://disk.yandex.ru/d/prdO8FDQx7lzCg')), # данные о заказах\n",
    "    'items_data'  : parse.urlencode(dict(public_key='https://disk.yandex.ru/d/atwrlmB_wu-fHA'))  # данные о товарах\n",
    "}\n",
    "\n",
    "final_urls = {\n",
    "    'users_data_url'  : base_url + public_keys['users_data'],\n",
    "    'orders_data_url' : base_url + public_keys['orders_data'],\n",
    "    'items_data_url'  : base_url + public_keys['items_data']\n",
    "}"
   ]
  },
  {
   "cell_type": "markdown",
   "metadata": {},
   "source": [
    "Здесь мы подключаемся к данным. Могли бы сделать это в разных ячейках и, если на какой-нибудь ссылке подключение упало, то остальные данные могли бы скачаться. Но (!), нам нужны все данные для анализа, поэтому не имеет смысла загружать их по частям"
   ]
  },
  {
   "cell_type": "code",
   "execution_count": 51,
   "metadata": {},
   "outputs": [],
   "source": [
    "# получение ссылок на скачивание данных через Яндекс Диск API\n",
    "\n",
    "try:\n",
    "    load_urls = {\n",
    "        'users_url'  : requests.get(final_urls['users_data_url']).json()['href'],\n",
    "        'orders_url' : requests.get(final_urls['orders_data_url']).json()['href'],\n",
    "        'items_url'  : requests.get(final_urls['items_data_url']).json()['href']\n",
    "    }\n",
    "except:\n",
    "    print('Какой-то файл не смог скачаться :)')"
   ]
  },
  {
   "cell_type": "code",
   "execution_count": 6,
   "metadata": {},
   "outputs": [],
   "source": [
    "# загружаем данные о пользователях (заранее парсим даты)\n",
    "\n",
    "users_data = pd.read_csv(load_urls['users_url'], parse_dates = ['time', 'date'])"
   ]
  },
  {
   "cell_type": "code",
   "execution_count": 7,
   "metadata": {},
   "outputs": [],
   "source": [
    "# загружаем данные о заказах\n",
    "\n",
    "orders_data = pd.read_csv(load_urls['orders_url'], parse_dates = ['creation_time'])\n",
    "\n",
    "# раскрываем список с товарами в заказах\n",
    "\n",
    "orders_data['product_ids'] = orders_data.product_ids.apply(lambda x: re.sub('[{,}]', '', x).split(' ')) \n",
    "orders_data = orders_data.explode('product_ids').rename(columns = {'product_ids' : 'product_id'}).astype({'product_id':'int64'})"
   ]
  },
  {
   "cell_type": "code",
   "execution_count": 8,
   "metadata": {},
   "outputs": [],
   "source": [
    "# загружаем данные о товарах\n",
    "\n",
    "items_data = pd.read_csv(load_urls['items_url'])"
   ]
  },
  {
   "cell_type": "markdown",
   "metadata": {},
   "source": [
    "### Предварительный анализ данных\n",
    "\n",
    "Перед основной работой с данными их необходимо \"разведочно\" посмотреть, чтобы сформировать первое представление о том, с каким вообще данными мы имеем дело.\n",
    "\n",
    "#### Данные о пользователях\n",
    "\n",
    "- Количество строк: **4337**\n",
    "- Количество столбцов: **6**\n",
    "\n",
    "| Название столбца         |  Что значит | Тип данных | Уникальность в таблице| Количество в дата-фрейме| NULL-значения|\n",
    "|:------------- |:---------------| :-------------:| :--:| :--:|:--: |\n",
    "| user_id          | идентификатор пользователя          | Int64       | Нет| 1017 | Нет|\n",
    "| order_id         | идентификатор заказа         | Int64       |Нет | 4123|Нет|\n",
    "| action         | действие пользователя          | String       | Нет|2 |Нет|\n",
    "| time         | время действия          | Datetime64        | Нет|4312 |Нет|\n",
    "| date        | дата действия          | Datetime64        | Нет| 14|Нет|\n",
    "| group       | группа          | Int64        | Нет| 2|Нет|\n",
    "\n",
    "#### Данные о заказах\n",
    "\n",
    "- Количество строк: **4123**\n",
    "- Количество столбцов: **3**\n",
    "\n",
    "| Название столбца         |  Что значит | Тип данных | Уникальность в таблице| Количество в дата-фрейме| NULL-значения|\n",
    "|:------------- |:---------------| :-------------:| :--:| :--:|:--: |\n",
    "| order_id         | идентификатор заказа         | Int64       |Да | 4123|Нет|\n",
    "| сreation_time         | создание заказа          | Datetime64       | Нет|4098 |Нет|\n",
    "| product_ids       | идентификаторы товаров в заказа          | Object (list)        | Нет| 3877|Нет|\n",
    "\n",
    "#### Данные о товарах\n",
    "\n",
    "- Количество строк: **87**\n",
    "- Количество столбцов: **3**\n",
    "\n",
    "| Название столбца         |  Что значит | Тип данных | Уникальность в таблице| Количество в дата-фрейме| NULL-значения|\n",
    "|:------------- |:---------------| :-------------:| :--:| :--:|:--: |\n",
    "| product_id         | идентификатор товара         | Int64       |Да | 87|Нет|\n",
    "| name        | имя товара          | String       | Да|87 |Нет|\n",
    "| price       | цена товара          | Float64        | Нет| 63|Нет|\n",
    "\n",
    "\n",
    "Видно, что данные собраны нормально и, кажется, что не было ошибок в алгоритме сбора данных, так как соблюдаются (по смыслу) уникальные значения, отсутствуют NULL-значение и типы данных также на местах. Также можем сказать, что размеры выборки приблизительно по **500 человек**"
   ]
  },
  {
   "cell_type": "markdown",
   "metadata": {},
   "source": [
    "## Интерпретация результатов"
   ]
  },
  {
   "cell_type": "markdown",
   "metadata": {},
   "source": [
    "Попробуем поразмыслить в сторону метрик в рамках монетизации. Улучшением качества сервиса для пользователя может считаться нахождение неоходимого ему товара, что в свою очередь принесет прибыль нашему продукту - это win-win. С одной стороны, чем больше покупок сделает пользователь, тем больше прибыли сможет получить продукт, но есть одно большое НО! Если наша рекомендательная система работает таким образом, что предлагает пользователю необходимые ему товары, но в несколько раз дешевле, то даже не смотря на увеличение количества покупок пользователями, прибыль для продукта не будет увеличиваться (если вообще не уменьшиться).\n",
    "\n",
    "Нужно чтобы было данная система удовлетворяла потребностям и пользователя и продукта. Это можно устроить - если пользователь делает больше покупок и при этом стоимость его покупок не падает. Получается, что чем больше покупок, тем больше прибыль продукту. Все просто!\n",
    "\n",
    "Соответственно, метриками в рамках монетизации нашей платформы могут выступать:\n",
    "\n",
    "- Количество покупок, сделанные пользователем \n",
    "- Средний чек пользователя\n",
    "- Прибыль с пользователя \n",
    "\n",
    "Таким образом, нужно проверить, что у нас **при увеличении количества покупок, увеличивается или остается неизменным средний чек пользователя. Все это ведет к увеличению прибыли. Profit!**\n",
    "\n",
    "\n",
    "<img src = \"https://assets-global.website-files.com/61bcbae3ae2e8e0565a790d1/62144c21b255406deefa0cff_image2.png\">"
   ]
  },
  {
   "cell_type": "markdown",
   "metadata": {},
   "source": [
    "### Достоверность результатов \n",
    "\n",
    "Очень важная вещь! Обычно, перед проведением AB-тестов заранее определяется размер выборки (от него зависит, как долго будет идти тест). Он определяется для определенных параметров:\n",
    "\n",
    "- Уровень значимости 1 - alpha: вероятность не найти различия там, где их нет\n",
    "- Мощность эксперимента 1 - beta: вероятность найти различия там, где они есть\n",
    "- MDE - минимальный истинный эффект, который можно будет обнаружить с определенной мощностью эксперимента для определенного уровня статистической значимости\n",
    "\n",
    "Так как у нас на руках уже финальные результаты, мы знаем размер выборки, мощность теста (стандартный) и уровень значимости (стандартный). Соотвественно, имея эти вводные мы можем рассчитать минимальный истинный эффект, который можно будет обнаружить с помощью критерия Стъюдента при таких параметрах alpha, beta и размере выборки"
   ]
  },
  {
   "cell_type": "code",
   "execution_count": 9,
   "metadata": {},
   "outputs": [
    {
     "name": "stdout",
     "output_type": "stream",
     "text": [
      "Минимальный детектируемый эффект для данных параметров: 0.18\n"
     ]
    }
   ],
   "source": [
    "# расчет MDE\n",
    "\n",
    "power_analysis = TTestIndPower()\n",
    "nobs1          = users_data.loc[users_data.group == 0].user_id.nunique()\n",
    "nobs2          = users_data.loc[users_data.group == 1].user_id.nunique()\n",
    "ratio          = nobs2 / nobs1\n",
    "mde            = power_analysis.solve_power(nobs1=nobs1, alpha=0.05, power=0.8, ratio=ratio)\n",
    "\n",
    "print('Минимальный детектируемый эффект для данных параметров: {}'.format(round(mde, 2)))"
   ]
  },
  {
   "cell_type": "markdown",
   "metadata": {},
   "source": [
    "При используемых в нашем случае данных, минимальный истинный эффект, который мы можем обнаружить c вероятностью 80% с такими параметрами alpha, beta и размер выборки n, равняется = **0.175**. Согласно приведенной ниже таблице - эффект довольно-таки слабый\n",
    "\n",
    "<img src = \"https://www.researchgate.net/publication/344626794/figure/tbl2/AS:946094485815298@1602577911175/Cohens-Effect-Size-Ranges-and-Their-Meanings.png\">\n"
   ]
  },
  {
   "cell_type": "markdown",
   "metadata": {},
   "source": [
    "## 1. Количество покупок на пользователя\n",
    "\n",
    "Для начала посмотрим, как новая система рекомендаций влияет на количество покупок на пользователя. В качестве покупки будет считать заказ без статусa \"cancel_order\". Предварительно нужно подготовить данные"
   ]
  },
  {
   "cell_type": "code",
   "execution_count": 10,
   "metadata": {},
   "outputs": [],
   "source": [
    "# количество заказов на пользователя\n",
    "\n",
    "purchases_per_user_data = users_data \\\n",
    "    .pivot_table(values='order_id', index=['user_id', 'group'], columns='action', aggfunc = 'count',fill_value = 0) \\\n",
    "    .reset_index() \n",
    "\n",
    "purchases_per_user_data['purchases'] = purchases_per_user_data.create_order - purchases_per_user_data.cancel_order"
   ]
  },
  {
   "cell_type": "code",
   "execution_count": 11,
   "metadata": {},
   "outputs": [],
   "source": [
    "# подготовка выборок \n",
    "\n",
    "control_purchases = purchases_per_user_data.loc[purchases_per_user_data.group == 0].purchases\n",
    "test_purchases    = purchases_per_user_data.loc[purchases_per_user_data.group == 1].purchases"
   ]
  },
  {
   "cell_type": "markdown",
   "metadata": {},
   "source": [
    "Для дальнейшего анализа нам необходимо понять, какой статистический критерий для сравнения среднего мы будем использовать. У нас есть варианты в виде параметрического или непараметрического. Использование параметрического критерия предполагает соблюдение определенных условий:\n",
    "\n",
    "- Нормальное распределение данных\n",
    "- Отсутствие выбросов \n",
    "- Гомогенность дисперсии\n",
    "\n",
    "Проверим, соответствуют ли наши данные перечисленным условиям. Для начала проверим нормальность распределения сразу несколькими способами\n",
    "\n",
    "#### 1.1 Гистограммы распределения\n",
    "\n",
    "Для начала посмотрим гистограммы распределния выборочных данных, чтобы понять, как вообще распределены данные. Это позволит сделать нам первое предположение о распределении "
   ]
  },
  {
   "cell_type": "code",
   "execution_count": 12,
   "metadata": {},
   "outputs": [
    {
     "data": {
      "image/png": "[encoded data removed]",
      "text/plain": [
       "<Figure size 1152x360 with 2 Axes>"
      ]
     },
     "metadata": {},
     "output_type": "display_data"
    }
   ],
   "source": [
    "# построение гистограмм распределения\n",
    "\n",
    "draw_histplot([control_purchases, test_purchases], 'Распределение выборочных данных')"
   ]
  },
  {
   "cell_type": "markdown",
   "metadata": {},
   "source": [
    "#### 1.2 Описательные статистики \n",
    "Также попробуем сравнить средние значения по выборкам с медианами, чтобы узнать насколько сильно отличаются друг от друга. В нормальном распределения средние значения и медианные должны не сильно отличаться друг от друга, смещение = 0, а эксцесс = 3"
   ]
  },
  {
   "cell_type": "code",
   "execution_count": 13,
   "metadata": {},
   "outputs": [
    {
     "data": {
      "text/plain": [
       "{'mean': 2.9650485436893206,\n",
       " 'median': 3.0,\n",
       " 'std': 1.8947864543941773,\n",
       " 'skew': 1.659348054500398,\n",
       " 'kurtosis': 3.6748153264875594}"
      ]
     },
     "execution_count": 13,
     "metadata": {},
     "output_type": "execute_result"
    }
   ],
   "source": [
    "# описательные статистики для контрольной выборки \n",
    "\n",
    "show_statistics(control_purchases)"
   ]
  },
  {
   "cell_type": "code",
   "execution_count": 14,
   "metadata": {},
   "outputs": [
    {
     "data": {
      "text/plain": [
       "{'mean': 4.745019920318725,\n",
       " 'median': 5.0,\n",
       " 'std': 2.1469760332678938,\n",
       " 'skew': 0.44282552488067817,\n",
       " 'kurtosis': 0.19439546094123994}"
      ]
     },
     "execution_count": 14,
     "metadata": {},
     "output_type": "execute_result"
    }
   ],
   "source": [
    "# описательные статистики для тестовой выборки \n",
    "\n",
    "show_statistics(test_purchases)"
   ]
  },
  {
   "cell_type": "markdown",
   "metadata": {},
   "source": [
    "После того, как мы нашли наши средние по группам **можно посчитать uplift - насколько у нас изменилась метрика в тестовой группе относительно контрольной группы**, а затем посчитать размер эффекта. В данном случае **effect size будет лучше отображать отличие тестовой группы от контрольной, так как будет учитывать выборочные дисперсии и размер выборок**\n",
    "\n",
    "#### 1.3 Uplift"
   ]
  },
  {
   "cell_type": "code",
   "execution_count": 15,
   "metadata": {},
   "outputs": [
    {
     "name": "stdout",
     "output_type": "stream",
     "text": [
      "Uplift составил 60.03%\n"
     ]
    }
   ],
   "source": [
    "# расчет прироста тестовой метрики относительно контрольной \n",
    "\n",
    "uplift = (test_purchases.mean() / control_purchases.mean()) - 1\n",
    "print('Uplift составил {}%'.format(round(uplift * 100, 2)))"
   ]
  },
  {
   "cell_type": "markdown",
   "metadata": {},
   "source": [
    "#### 1.4 Effect Size"
   ]
  },
  {
   "cell_type": "code",
   "execution_count": 16,
   "metadata": {},
   "outputs": [
    {
     "name": "stdout",
     "output_type": "stream",
     "text": [
      "Стандартизированный размер эффекта, выявленный в результате эксперимента: 0.88\n"
     ]
    }
   ],
   "source": [
    "# расчет полученного размера эффекта\n",
    "\n",
    "# дисперсии данных в контрольной и тестовой группах\n",
    "control_var = control_purchases.var()\n",
    "test_var    = test_purchases.var()\n",
    "\n",
    "# общая дисперсия\n",
    "pooled_var  = calc_pooled_var(control_var, test_var, nobs1, nobs2)\n",
    "\n",
    "# размер эффекта\n",
    "effect_size = (test_purchases.mean() - control_purchases.mean()) / pooled_var\n",
    "\n",
    "print('Стандартизированный размер эффекта, выявленный в результате эксперимента: {}'.format(round(effect_size, 2)))"
   ]
  },
  {
   "cell_type": "markdown",
   "metadata": {},
   "source": [
    "В результате эксперимента мы получили, что размер эффекта, полученный в результате внедрения новой рекомендательной системы, для такой метрики, как количество покупок на пользователя, составляет 0.88. В данном случае он показывает **степень отклонения наблюдаемых значений метрики от тех, которые можно было бы ожидать при отсуствии эффекта.**\n",
    "\n",
    "Согласно шкале интерпретации эффекта Коэна - это довольно-таки большой эффект. Сравнивая его с MDE (0.175) можем заключить, что вероятность обнаружения такого эфффекта довольно-таки высокая, а значит мы можем доверять результатам нашего AB-тестирования"
   ]
  },
  {
   "cell_type": "markdown",
   "metadata": {},
   "source": [
    "На основании полученных гистограмм и описательных статистик можно сказать, что распределения не выглядят нормальными **Видно, что полученное различие между средними вполне детектируется с 80% вероятностью при нашем размере выборке и уровне значимости**\n",
    "\n",
    "Попробуем применить более профессиональные статистические критерии, чтобы проверить гипотезу о том, что данные выборки принадлежат ГС с нормальными распределениями\n",
    "#### 1.5 Статистические критерии\n",
    "\n",
    "- Шапиро-Уилка (для выборок < 1000)\n",
    "- Харке-Бера\n",
    "- Д'агостино (Normal Test)\n",
    "\n",
    "Для проверки выберем какой-нибудь один. В данном случае будем использовать метод Шапиро-Уилка, так как он наиболее мощный их всех"
   ]
  },
  {
   "cell_type": "code",
   "execution_count": 17,
   "metadata": {},
   "outputs": [
    {
     "name": "stdout",
     "output_type": "stream",
     "text": [
      "Контрольное распределение: ненормальное\n",
      "Тестовое распределение: ненормальное\n"
     ]
    }
   ],
   "source": [
    "# проверка на нормальность критерием Шапиро-Уилка\n",
    "shapiro = {\n",
    "    'control_p' : stats.shapiro(control_purchases)[1],\n",
    "    'test_p'    : stats.shapiro(test_purchases)[1]\n",
    "}\n",
    "\n",
    "print('Контрольное распределение: {}'.format('ненормальное' if shapiro['control_p'] < 0.05 else 'нормальное'))\n",
    "print('Тестовое распределение: {}'.format('ненормальное' if shapiro['test_p'] < 0.05 else 'нормальное'))"
   ]
  },
  {
   "cell_type": "markdown",
   "metadata": {},
   "source": [
    "Наши статистические критерии подтвердили, что выборочные данные в обеих группах не распределены нормально. Из этого следует, что у нас есть несколько вариантов: \n",
    "\n",
    "- Использовать непараметрический тест Манна-Уитни \n",
    "- Преобразовать данные логарифмированием или преобразованием Бокса-Кокса и провести T-Test\n",
    "- Использовать T-Test в любом случае, так как размер нашей выборки > 100 и позволяет нам так делать (да и вообще для t-теста распределение выборочных данных не обязательно должно быть нормальным)\n",
    "\n",
    "Попробуем использовать 2 варианта: U-тест Манна-Уитни и T-критерий Стъюдента. Однако, чтобы использовать Стъюдента необходимо понять, одинаковая ли изменчивость в 2-х выборках или нет. Для этого будем использовать тест Левена, так как он более робастный к ненормальным распределениям, чем условный тест Бартлетта"
   ]
  },
  {
   "cell_type": "code",
   "execution_count": 18,
   "metadata": {},
   "outputs": [
    {
     "data": {
      "text/plain": [
       "LeveneResult(statistic=16.84374227950037, pvalue=4.3843490662180984e-05)"
      ]
     },
     "execution_count": 18,
     "metadata": {},
     "output_type": "execute_result"
    }
   ],
   "source": [
    "# проверка на гомоскедастичность тестом Левена\n",
    "\n",
    "stats.levene(control_purchases, test_purchases)"
   ]
  },
  {
   "cell_type": "markdown",
   "metadata": {},
   "source": [
    "Тест Левена показал, что у нас достаточно оснований отклонить нулевую гипотезу о равенстве дисперсий в 2-х выборках, а это значит, что, если мы будем использовать T-Test, то нужно брать модификацию Уэлча для данного теста. Сперва проверим гипотезу о равенстве 2-х средних значений покупок на пользователя с помощью T-теста Уэлча\n",
    "\n",
    "#### 1.6 Проверка гипотезы о равенстве количества покупок в 2-х группах\n",
    "\n",
    "- T-Test Уэлча\n",
    "- U-критерий Манна-Уитни (используется на выборках от 3 до 60, однако все-равно попробуем)"
   ]
  },
  {
   "cell_type": "code",
   "execution_count": 19,
   "metadata": {},
   "outputs": [
    {
     "data": {
      "text/plain": [
       "Ttest_indResult(statistic=-14.004857145357283, pvalue=8.436864886644697e-41)"
      ]
     },
     "execution_count": 19,
     "metadata": {},
     "output_type": "execute_result"
    }
   ],
   "source": [
    "# тест Уэлча для выборок с неоднородными дисперсиями\n",
    "\n",
    "stats.ttest_ind(control_purchases, test_purchases, equal_var = False)"
   ]
  },
  {
   "cell_type": "code",
   "execution_count": 20,
   "metadata": {},
   "outputs": [
    {
     "data": {
      "text/plain": [
       "MannwhitneyuResult(statistic=63507.0, pvalue=8.932329495353261e-46)"
      ]
     },
     "execution_count": 20,
     "metadata": {},
     "output_type": "execute_result"
    }
   ],
   "source": [
    "# критерий Манна-Уитни \n",
    "\n",
    "stats.mannwhitneyu(control_purchases, test_purchases)"
   ]
  },
  {
   "cell_type": "markdown",
   "metadata": {},
   "source": [
    "Результаты обеих статистических проверок говорят о том, что имеются все основания отклонить нулевую гипотезу о равенстве среднего количества покупок в 2-х группах, и что различия между ними статистически значимы. Из этого следует, что **в группе с новой системой рекомендации товаров среднее количество покупок, совершаемых пользователем выше, чем в группе со старым алгоритмом**. \n",
    "\n",
    "Теперь проверим, траты пользователей, так как количество покупок может вырасти, но покупаемые товары станут дешевле. Например, пользователь мог раньше покупать 1 товар по 300 рублей, а теперь покупает 2 товара по 150 рублей или 3 товара за 100 рублей - в таком случае количество покупок выросло, но средний чек пользователя стал меньше. Для нашей компании это может быть невыгодно, так как теперь наши курьеры больше загружены (расходы могут стать больше), но прибыли с этого больше не стало. Поэтому нужно выяснить, как изменились средний чек для наших пользователей \n",
    "\n",
    "## 2. Средний чек пользователя\n",
    "\n",
    "Для того, чтобы посмотреть средние траты пользователя необходимо сначала подготовить данные. Для этого нужно объединить данные по пользователям и данные по заказам и товарам, рассчитать нужный показатель для пользователя, а после разбить данные на группы (разбивка последним шагом, чтобы не делать расчет 2 раза)"
   ]
  },
  {
   "cell_type": "markdown",
   "metadata": {},
   "source": [
    "Для проверки гипотезы о равенстве так называемых ratio-метрик (метрик отношения) будем использовать дельта-метод, так как обычные методы типа теста Стъюдента для проверки средних не сработают из-за зависимости данных, а дельта-метод учитывает д **Покупки одного пользователи с большой вероятностью будут зависимыми данными, в то время вероятность того, что покупки разных пользователей никак не влияют друг на друга**\n",
    "\n",
    "В данном случае можно было бы также использовать бутстрэп, однако данный метод слишком затратен с точки зрения ресурсов. Проведение дельта-метода будем проводить согласно следующей формулы оценки дисперсии ratio-метрики:\n",
    "\n",
    "<img src = \"https://habrastorage.org/r/w1560/getpro/habr/upload_files/164/709/8b8/1647098b8e9ffb14c5c250cb0c376d89.png\" alt = \"Формула для оценки дисперсии ratio-метрики\">\n",
    "\n",
    "После того, как найдем дисперсию ratio-метрики при помощи указанной выше формулы, рассчитаем t-критерий по следующей формуле:\n",
    "\n",
    "<img src = \"https://habrastorage.org/getpro/habr/upload_files/a05/378/c91/a05378c91eee426dbde1453c438a0c21.svg\" alt = \"Формула расчета t-критерия Стъюдента с дисперсией для зависимых данных\">"
   ]
  },
  {
   "cell_type": "code",
   "execution_count": 21,
   "metadata": {},
   "outputs": [],
   "source": [
    "# объединение данных по заказам с данными по товарам\n",
    "\n",
    "total_orders_data = orders_data.merge(items_data, how = 'left', on = 'product_id')"
   ]
  },
  {
   "cell_type": "code",
   "execution_count": 22,
   "metadata": {},
   "outputs": [],
   "source": [
    "# объединение данных по пользователям с данными по заказам\n",
    "\n",
    "data = users_data.merge(total_orders_data, how = 'left', on = 'order_id')"
   ]
  },
  {
   "cell_type": "code",
   "execution_count": 52,
   "metadata": {},
   "outputs": [],
   "source": [
    "# формирование выборок \n",
    "\n",
    "control_aov = data.loc[data.group == 0].groupby(['user_id', 'order_id'], as_index=False).agg({'price':'sum'})\n",
    "test_aov = data.loc[data.group == 1].groupby(['user_id', 'order_id'], as_index=False).agg({'price':'sum'})"
   ]
  },
  {
   "cell_type": "code",
   "execution_count": 55,
   "metadata": {},
   "outputs": [
    {
     "data": {
      "text/plain": [
       "0.25240897623635994"
      ]
     },
     "execution_count": 55,
     "metadata": {},
     "output_type": "execute_result"
    }
   ],
   "source": [
    "# расчет p_value дельта-методом \n",
    "\n",
    "check_delta_method(control_aov, test_aov)"
   ]
  },
  {
   "cell_type": "code",
   "execution_count": null,
   "metadata": {},
   "outputs": [],
   "source": []
  },
  {
   "cell_type": "code",
   "execution_count": null,
   "metadata": {},
   "outputs": [],
   "source": []
  },
  {
   "cell_type": "code",
   "execution_count": null,
   "metadata": {},
   "outputs": [],
   "source": []
  },
  {
   "cell_type": "code",
   "execution_count": 25,
   "metadata": {},
   "outputs": [],
   "source": [
    "# расчет пользовательских трат\n",
    "\n",
    "aov_data = data \\\n",
    "    .pivot_table(\n",
    "        values     = 'price',\n",
    "        index      = ['user_id', 'order_id', 'group'],\n",
    "        columns    = 'action',\n",
    "        aggfunc    = 'sum',\n",
    "        fill_value = 0\n",
    "    ) \\\n",
    "    .reset_index()\n",
    "\n",
    "aov_data = aov_data \\\n",
    "    .assign(order_value = aov_data.create_order - aov_data.cancel_order) \\\n",
    "    .groupby(['user_id', 'group'], as_index=False) \\\n",
    "    .agg({'order_value' : 'mean'}) \\\n",
    "    .rename(columns = {'order_value' : 'aov'})"
   ]
  },
  {
   "cell_type": "code",
   "execution_count": 26,
   "metadata": {},
   "outputs": [],
   "source": [
    "# формирование выборок\n",
    "\n",
    "control_aov = aov_data.loc[aov_data.group == 0].aov\n",
    "test_aov    = aov_data.loc[aov_data.group == 1].aov"
   ]
  },
  {
   "cell_type": "markdown",
   "metadata": {},
   "source": [
    "Для того, чтобы проверить есть ли статистически значимое различие между 2-мя показателями, необходимо повторить тот же алгоритм, что и при проверке различий количестве покупок\n",
    "\n",
    "#### 2.1 Гистограммы распределения"
   ]
  },
  {
   "cell_type": "code",
   "execution_count": 27,
   "metadata": {},
   "outputs": [
    {
     "data": {
      "image/png": "[encoded data removed]",
      "text/plain": [
       "<Figure size 1152x360 with 2 Axes>"
      ]
     },
     "metadata": {},
     "output_type": "display_data"
    }
   ],
   "source": [
    "# построение гистограмм распределения\n",
    "\n",
    "draw_histplot([control_aov, test_aov], 'Распределение средних пользовательских чеков')"
   ]
  },
  {
   "cell_type": "markdown",
   "metadata": {},
   "source": [
    "#### 2.2 Описательные статистики"
   ]
  },
  {
   "cell_type": "code",
   "execution_count": 28,
   "metadata": {},
   "outputs": [
    {
     "data": {
      "text/plain": [
       "{'mean': 364.2505970550485,\n",
       " 'median': 343.70000000000005,\n",
       " 'std': 166.79103068937934,\n",
       " 'skew': 0.7567487342001927,\n",
       " 'kurtosis': 1.1348750366462408}"
      ]
     },
     "execution_count": 28,
     "metadata": {},
     "output_type": "execute_result"
    }
   ],
   "source": [
    "# описательные статистики для контрольной выборки \n",
    "\n",
    "show_statistics(control_aov)"
   ]
  },
  {
   "cell_type": "code",
   "execution_count": 29,
   "metadata": {},
   "outputs": [
    {
     "data": {
      "text/plain": [
       "{'mean': 352.3455473637695,\n",
       " 'median': 340.40250000000003,\n",
       " 'std': 132.89487164342805,\n",
       " 'skew': 0.8733720404257034,\n",
       " 'kurtosis': 1.8253778653091506}"
      ]
     },
     "execution_count": 29,
     "metadata": {},
     "output_type": "execute_result"
    }
   ],
   "source": [
    "# описательные статистики для тестовой выборки \n",
    "\n",
    "show_statistics(test_aov)"
   ]
  },
  {
   "cell_type": "markdown",
   "metadata": {},
   "source": [
    "После того, как мы выяснили средние значения метрик, необходимо, как и в случае с предыдущими метриками, выяснить получившийся размер эффекта для среднего чека в друх группах и сравнить его с минимальным истинным эффектом, чтобы понять, можем ли мы вообще доверять результатам дальнейшего сравнения при используемых параметрах alpha, beta и размер выборки n. \n",
    "\n",
    "#### 2.3 Lift"
   ]
  },
  {
   "cell_type": "code",
   "execution_count": 30,
   "metadata": {},
   "outputs": [
    {
     "name": "stdout",
     "output_type": "stream",
     "text": [
      "Lift составил -3.27%\n"
     ]
    }
   ],
   "source": [
    "# расчет изменения среднего чека в тестовой группе относительно метрики в контрольной\n",
    "lift = (test_aov.mean() / control_aov.mean()) - 1\n",
    "print('Lift составил {}%'.format(round(lift * 100, 2)))"
   ]
  },
  {
   "cell_type": "markdown",
   "metadata": {},
   "source": [
    "#### 2.4 Effect Size"
   ]
  },
  {
   "cell_type": "code",
   "execution_count": 31,
   "metadata": {},
   "outputs": [
    {
     "name": "stdout",
     "output_type": "stream",
     "text": [
      "Стандартизированный размер эффекта, выявленный в результате эксперимента: -0.08\n"
     ]
    }
   ],
   "source": [
    "# расчет полученного размера эффекта\n",
    "\n",
    "# выборочные дисперсии данных в тестовой и контрольной группе\n",
    "control_var = control_aov.var()\n",
    "test_var    = test_aov.var()\n",
    "\n",
    "# расчет общей дисперсии в 2-х группах\n",
    "pooled_var  = calc_pooled_var(control_var, test_var, nobs1, nobs2)\n",
    "\n",
    "# effect size\n",
    "effect_size = (test_aov.mean() - control_aov.mean()) / pooled_var\n",
    "print('Стандартизированный размер эффекта, выявленный в результате эксперимента: {}'.format(round(effect_size, 2)))"
   ]
  },
  {
   "cell_type": "markdown",
   "metadata": {},
   "source": [
    "В данном случае, полученный размер эффекта меньше, чем MDE (0.175). Это говорит о том, что для того, чтобы зафикировать полученный эффект с большой вероятностью (не совершить ошибку II рода), нам нужно поменять параметры проведения исследования (например, увеличить размер выборки\n",
    "\n",
    "Давайте проверим, выборку какого размера надо было брать, чтобы с большой долей вероятности - 80% - зафиксировать отклонение тестовой метрики от контрольной. "
   ]
  },
  {
   "cell_type": "code",
   "execution_count": 32,
   "metadata": {},
   "outputs": [
    {
     "name": "stdout",
     "output_type": "stream",
     "text": [
      "Необходимая выборка: 2453\n",
      "Текущая мощность: 24.71%\n"
     ]
    }
   ],
   "source": [
    "# необходимая выборка для достоверной фиксации эффекта в 0.08\n",
    "sample_size = power_analysis.solve_power(effect_size=0.08, power=0.8, alpha=0.05)\n",
    "\n",
    "# текущая мощность при MDE = 0.08\n",
    "power       = power_analysis.solve_power(nobs1=nobs1, alpha=0.05, effect_size = 0.08, ratio=ratio)\n",
    "\n",
    "print('Необходимая выборка: {}'.format(int(sample_size)))\n",
    "print('Текущая мощность: {}%'.format(round(power * 100, 2)))"
   ]
  },
  {
   "cell_type": "markdown",
   "metadata": {},
   "source": [
    "Для того, чтобы с большой вероятность доверять полученным результатам, выборка для MDE, равного 0.08, должна составлять 2453 пользователя. В нашем случае, **вероятность найти различия в средних чеках, если они действительно есть, составляет порядка 25% (маловато)**"
   ]
  },
  {
   "cell_type": "markdown",
   "metadata": {},
   "source": [
    "Исходя из результатов полученных гистограмм и описательных статистик, можно сказать, что на первый взгляд распределение данных не является нормальным. Однако, необходимо провести проверку более профессиональными статистическими критериями, как визуальными (qq-plots), так и расчетными (Шапиро-Уилка)\n",
    "\n",
    "#### 2.5 QQ-Plots"
   ]
  },
  {
   "cell_type": "code",
   "execution_count": 33,
   "metadata": {},
   "outputs": [
    {
     "data": {
      "image/png": "[encoded data removed]",
      "text/plain": [
       "<Figure size 1152x360 with 2 Axes>"
      ]
     },
     "metadata": {},
     "output_type": "display_data"
    }
   ],
   "source": [
    "figure, axes = plt.subplots(nrows = 1, ncols = 2, figsize = (16, 5))\n",
    "samples      = [control_aov, test_aov]\n",
    "titles       = ['Control', 'Test']\n",
    "\n",
    "for ax, sample, title in zip(axes.flatten(), samples, titles):\n",
    "    pg.qqplot(sample, ax = ax)\n",
    "    ax.set_title(title)"
   ]
  },
  {
   "cell_type": "markdown",
   "metadata": {},
   "source": [
    "#### 2.6 Статистические критерии\n",
    "\n",
    "- Шапиро-Уилка (для выборок < 1000)\n",
    "- Харке-Бера\n",
    "- Д'агостино (Normal Test)"
   ]
  },
  {
   "cell_type": "code",
   "execution_count": 34,
   "metadata": {},
   "outputs": [
    {
     "name": "stdout",
     "output_type": "stream",
     "text": [
      "Контрольное распределение: ненормальное\n",
      "Тестовое распределение: ненормальное\n"
     ]
    }
   ],
   "source": [
    "# проверка на нормальность критерием Шапиро-Уилка\n",
    "\n",
    "shapiro = {\n",
    "    'control_p' : stats.shapiro(control_aov)[1],\n",
    "    'test_p'    : stats.shapiro(test_aov)[1]\n",
    "}\n",
    "\n",
    "print('Контрольное распределение: {}'.format('ненормальное' if shapiro['control_p'] < 0.05 else 'нормальное'))\n",
    "print('Тестовое распределение: {}'.format('ненормальное' if shapiro['test_p'] < 0.05 else 'нормальное'))"
   ]
  },
  {
   "cell_type": "markdown",
   "metadata": {},
   "source": [
    "Статистические критерии и qq-plots говорят нам о том, что есть все основания отклонить нулевую гипотезу о том, что выборочные данные нормально распределены. Следовательно, есть несколько вариантов для дальнейшего анализа\n",
    "\n",
    "- Преобразование данных логарифмированием или методом Бокса-Кокса\n",
    "- Использование непараметрического критерия Манна-Уитни\n",
    "- Использование T-Test (выборка > 100)\n",
    "\n",
    "Будем использовать вариант с T-Test, так как это распространенная практика - использовать данный тест на больших выборках даже при ненормальном распределении. Однако, необходимо проверить дисперсии в данных, чтобы определиться будем ли мы использовать оригинальный T-Test или модификацию Уэлча. Проверку на гомогенность будем осуществлять с помощью теста Левена, так как он более робастный к отклонениям от симметрии нежели тест Бартлетта"
   ]
  },
  {
   "cell_type": "code",
   "execution_count": 35,
   "metadata": {},
   "outputs": [
    {
     "data": {
      "text/plain": [
       "LeveneResult(statistic=22.49207791053141, pvalue=2.41166329867886e-06)"
      ]
     },
     "execution_count": 35,
     "metadata": {},
     "output_type": "execute_result"
    }
   ],
   "source": [
    "# проверка на гомоскедастичность тестом Левена\n",
    "\n",
    "stats.levene(control_aov, test_aov)"
   ]
  },
  {
   "cell_type": "markdown",
   "metadata": {},
   "source": [
    "Проверка на гомоскедастичность критерием Левена показала, что у нас достаточно оснований отклонить нулевую гипотезу о равенстве дисперсий 2-х выборок. Соответственно, для сравнения средних в 2-х выборках будем использовать модифицированный t-критерий Уэлча для выборок с разными дисперсиями\n",
    "\n",
    "#### 2.7 Проверка гипотезы о равенстве средних чеков в 2-х группах"
   ]
  },
  {
   "cell_type": "code",
   "execution_count": 36,
   "metadata": {},
   "outputs": [
    {
     "data": {
      "text/plain": [
       "Ttest_indResult(statistic=1.2605219927635725, pvalue=0.2077822112341301)"
      ]
     },
     "execution_count": 36,
     "metadata": {},
     "output_type": "execute_result"
    }
   ],
   "source": [
    "# тест Уэлча для выборок с неоднородными дисперсиями\n",
    "\n",
    "stats.ttest_ind(control_aov, test_aov, equal_var = False)"
   ]
  },
  {
   "cell_type": "code",
   "execution_count": 37,
   "metadata": {},
   "outputs": [
    {
     "data": {
      "text/plain": [
       "MannwhitneyuResult(statistic=132447.5, pvalue=0.49684884726587475)"
      ]
     },
     "execution_count": 37,
     "metadata": {},
     "output_type": "execute_result"
    }
   ],
   "source": [
    "# U-критерий Манна-Уитни\n",
    "\n",
    "stats.mannwhitneyu(control_aov, test_aov)"
   ]
  },
  {
   "cell_type": "markdown",
   "metadata": {},
   "source": [
    "Данный критерий также говорит о том, что нет оснований утверждать, что выборки имеются статистически значимые различия. Однако мы знаем, что вероятность совершить ошибку II рода в данном случае для размера эффекта, равного 0.08, составляет порядка 75% (1 - мощность теста). То есть мы с большой долей вероятности просто могли не найти статистически значимые различия между средними значениями пользовательских чеков, даже если они и правда есть. **Поэтому к результатам расчета данного показателя, стоит относится с недоверием**"
   ]
  },
  {
   "cell_type": "markdown",
   "metadata": {},
   "source": [
    "Можно предположить, что **средний чек пользователя в 2-х группах и правда не отличается друг от друга**. Тогда мы знаем, что **количество покупок на пользователя в тестовой группе преобладает**, и следовательно средняя прибыль с пользователя должна в тестовой группе также быть выше. Давайте проверим эту гипотезу!\n",
    "\n",
    "<img src = 'https://gifdb.com/images/high/let-s-go-let-s-do-this-dwight-schrute-781hy0bq8jb4kr64.gif'>\n",
    "\n",
    "\n",
    "## 3. Прибыль с пользователя"
   ]
  },
  {
   "cell_type": "code",
   "execution_count": 38,
   "metadata": {},
   "outputs": [],
   "source": [
    "# подготовка данных для анализа прибыли с пользователя\n",
    "\n",
    "revenue_per_user = data \\\n",
    "    .pivot_table(\n",
    "        values     = 'price',\n",
    "        index      = ['user_id', 'order_id', 'group'],\n",
    "        columns    = 'action',\n",
    "        aggfunc    = 'sum',\n",
    "        fill_value = 0\n",
    "    ) \\\n",
    "    .reset_index()\n",
    "\n",
    "revenue_per_user = revenue_per_user \\\n",
    "    .assign(total_revenue = revenue_per_user.create_order - revenue_per_user.cancel_order) \\\n",
    "    .groupby(['user_id', 'group'], as_index=False) \\\n",
    "    .agg({'total_revenue' : 'sum'}) "
   ]
  },
  {
   "cell_type": "code",
   "execution_count": 39,
   "metadata": {},
   "outputs": [],
   "source": [
    "# выборки\n",
    "\n",
    "control_revenue = revenue_per_user.loc[revenue_per_user.group == 0].total_revenue\n",
    "test_revenue    = revenue_per_user.loc[revenue_per_user.group == 1].total_revenue"
   ]
  },
  {
   "cell_type": "markdown",
   "metadata": {},
   "source": [
    "И снова тот же алгоритм, что и для анализа предыдущих метрик. Сперва посмотрим на распределения, затем на гомогенность дисперсий, выберем критерий и сравним 2 метрики друг с другом. \n",
    "\n",
    "#### 3.1 Гистограммы распределения "
   ]
  },
  {
   "cell_type": "code",
   "execution_count": 40,
   "metadata": {},
   "outputs": [
    {
     "data": {
      "image/png": "[encoded data removed]",
      "text/plain": [
       "<Figure size 1152x360 with 2 Axes>"
      ]
     },
     "metadata": {},
     "output_type": "display_data"
    }
   ],
   "source": [
    "# построение гистограмм распределения\n",
    "\n",
    "draw_histplot([control_revenue, test_revenue], 'Распределение прибыли с пользователя')"
   ]
  },
  {
   "cell_type": "markdown",
   "metadata": {},
   "source": [
    "#### 3.2 Описательные статистики"
   ]
  },
  {
   "cell_type": "code",
   "execution_count": 41,
   "metadata": {},
   "outputs": [
    {
     "data": {
      "text/plain": [
       "{'mean': 1132.9240776699028,\n",
       " 'median': 951.1999999999999,\n",
       " 'std': 812.0949213526965,\n",
       " 'skew': 1.533949433195731,\n",
       " 'kurtosis': 3.690709473664561}"
      ]
     },
     "execution_count": 41,
     "metadata": {},
     "output_type": "execute_result"
    }
   ],
   "source": [
    "# описательные статистики для контрольной выборки \n",
    "\n",
    "show_statistics(control_revenue)"
   ]
  },
  {
   "cell_type": "code",
   "execution_count": 42,
   "metadata": {},
   "outputs": [
    {
     "data": {
      "text/plain": [
       "{'mean': 1750.25577689243,\n",
       " 'median': 1628.8999999999999,\n",
       " 'std': 931.1293648512636,\n",
       " 'skew': 0.5136119529003585,\n",
       " 'kurtosis': -0.1707536678299859}"
      ]
     },
     "execution_count": 42,
     "metadata": {},
     "output_type": "execute_result"
    }
   ],
   "source": [
    "# описательные статистики для тестовой выборки \n",
    "\n",
    "show_statistics(test_revenue)"
   ]
  },
  {
   "cell_type": "markdown",
   "metadata": {},
   "source": [
    "Снова проверяем размер полученного эффекта и сравниваем его с MDE для используемых параметров\n",
    "\n",
    "#### 3.4 Lift"
   ]
  },
  {
   "cell_type": "code",
   "execution_count": 43,
   "metadata": {},
   "outputs": [
    {
     "name": "stdout",
     "output_type": "stream",
     "text": [
      "Lift составил 54.49%\n"
     ]
    }
   ],
   "source": [
    "# расчет изменения метрики в тестовой группе относительно контрольной группы\n",
    "\n",
    "lift = (test_revenue.mean() / control_revenue.mean()) - 1\n",
    "print('Lift составил {}%'.format(round(lift * 100, 2)))"
   ]
  },
  {
   "cell_type": "markdown",
   "metadata": {},
   "source": [
    "#### 3.5 Effect Size"
   ]
  },
  {
   "cell_type": "code",
   "execution_count": 44,
   "metadata": {},
   "outputs": [
    {
     "name": "stdout",
     "output_type": "stream",
     "text": [
      "Стандартизированный размер эффекта, выявленный в результате эксперимента: 0.71\n"
     ]
    }
   ],
   "source": [
    "# расчет стандартизированного размера эффекта \n",
    "\n",
    "# выборочные дисперсии\n",
    "control_var = control_revenue.var()\n",
    "test_var    = test_revenue.var()\n",
    "\n",
    "# общая дисперсия для 2-х групп\n",
    "pooled_var  = calc_pooled_var(control_var, test_var, nobs1, nobs2)\n",
    "\n",
    "# расчет эффекта \n",
    "effect_size = (test_revenue.mean() - control_revenue.mean()) / pooled_var\n",
    "\n",
    "print('Стандартизированный размер эффекта, выявленный в результате эксперимента: {}'.format(round(effect_size, 2)))"
   ]
  },
  {
   "cell_type": "markdown",
   "metadata": {},
   "source": [
    "Согласно шкале интерпретации эффекта Коэна - это довольно-таки большой эффект. Сравнивая его с MDE (0.175) можем заключить, что вероятность обнаружения такого эфффекта довольно-таки высокая, а значит мы можем доверять результатам нашего AB-тестирования"
   ]
  },
  {
   "cell_type": "markdown",
   "metadata": {},
   "source": [
    "#### 3.3 QQ-Plots"
   ]
  },
  {
   "cell_type": "code",
   "execution_count": 45,
   "metadata": {},
   "outputs": [
    {
     "data": {
      "image/png": "[encoded data removed]",
      "text/plain": [
       "<Figure size 1152x360 with 2 Axes>"
      ]
     },
     "metadata": {},
     "output_type": "display_data"
    }
   ],
   "source": [
    "figure, axes = plt.subplots(nrows = 1, ncols = 2, figsize = (16, 5))\n",
    "samples      = [control_revenue, test_revenue]\n",
    "titles       = ['Control', 'Test']\n",
    "\n",
    "for ax, sample, title in zip(axes.flatten(), samples, titles):\n",
    "    pg.qqplot(sample, ax = ax)\n",
    "    ax.set_title(title)"
   ]
  },
  {
   "cell_type": "markdown",
   "metadata": {},
   "source": [
    "#### 3.4 Статистические критерии\n",
    "\n",
    "- Шапиро-Уилка (для выборок < 1000)\n",
    "- Харке-Бера\n",
    "- Д'агостино (Normal Test)"
   ]
  },
  {
   "cell_type": "code",
   "execution_count": 46,
   "metadata": {},
   "outputs": [
    {
     "name": "stdout",
     "output_type": "stream",
     "text": [
      "Контрольное распределение: ненормальное\n",
      "Тестовое распределение: ненормальное\n"
     ]
    }
   ],
   "source": [
    "# проверка на нормальность критерием Шапиро-Уилка\n",
    "\n",
    "shapiro = {\n",
    "    'control_p' : stats.shapiro(control_revenue)[1],\n",
    "    'test_p'    : stats.shapiro(test_revenue)[1]\n",
    "}\n",
    "\n",
    "print('Контрольное распределение: {}'.format('ненормальное' if shapiro['control_p'] < 0.05 else 'нормальное'))\n",
    "print('Тестовое распределение: {}'.format('ненормальное' if shapiro['test_p'] < 0.05 else 'нормальное'))"
   ]
  },
  {
   "cell_type": "markdown",
   "metadata": {},
   "source": [
    "Статистические критерии и qq-plots снова говорят нам о том, что есть все основания отклонить нулевую гипотезу о том, что выборочные данные нормально распределены. Следовательно, посмотрим на наличие гомоскедастичности в данных и дальше выберем между Стъюдентом и Уэлчем"
   ]
  },
  {
   "cell_type": "code",
   "execution_count": 47,
   "metadata": {},
   "outputs": [
    {
     "data": {
      "text/plain": [
       "LeveneResult(statistic=18.4065054293346, pvalue=1.9550073151277537e-05)"
      ]
     },
     "execution_count": 47,
     "metadata": {},
     "output_type": "execute_result"
    }
   ],
   "source": [
    "# проверка на гомоскедастичность тестом Левена\n",
    "\n",
    "stats.levene(control_revenue, test_revenue)"
   ]
  },
  {
   "cell_type": "markdown",
   "metadata": {},
   "source": [
    "Проверка на нормальность и гомоскедастичность наших выборочных данных показала, что данные распределены ненормально и дисперсии между выборками статистически значимо различаются. Следовательно для оценки среднего используем модификацию T-Теста Уэлча\n",
    "\n",
    "#### 3.5 Проверка гипотезы о равенстве прибыли с пользователя в 2-х группах"
   ]
  },
  {
   "cell_type": "code",
   "execution_count": 48,
   "metadata": {},
   "outputs": [
    {
     "data": {
      "text/plain": [
       "Ttest_indResult(statistic=-11.256494700536772, pvalue=9.627796378033664e-28)"
      ]
     },
     "execution_count": 48,
     "metadata": {},
     "output_type": "execute_result"
    }
   ],
   "source": [
    "# тест Уэлча для выборок с неоднородными дисперсиями\n",
    "\n",
    "stats.ttest_ind(control_revenue, test_revenue, equal_var = False)"
   ]
  },
  {
   "cell_type": "markdown",
   "metadata": {},
   "source": [
    "Проверка показала, что средние значения прибыли в контрольной и тестовой группе статистически значимо различаются. Можно сделать вывод, что прибыль и правда выросла за счет того, что люди стали совершать больше покупок, а не за счет покупок более дорогих товаров. \n",
    "\n",
    "<img src = 'https://imgflip.com/s/meme/Money-Money.jpg'>\n",
    "\n",
    "\n",
    "## Выводы"
   ]
  },
  {
   "cell_type": "markdown",
   "metadata": {},
   "source": [
    "На основе полученных результатов, можно сделать следующий вывод. Анализ показал, что в тестовой группе пользователи делают больше заказов, нежели в контрольной группе. При этом также было доказано, что данное отклонение количества покупок в тестовой группе от такой же метрики в контрольной группе, можно обнаружить с довольно-таки большой вероятностью. \n",
    "\n",
    "Однако, при проверке различий между величиной среднего чека в тестовой и контрольной группах, было выяснено, что используемые параметры анализа (уровень значимости, мощность теста и размер выборки) не позволяет избежать значительной вероятноси ошибки II рода и не найти статистически значимые различия там, где они действительно есть. Критерий Стъюдента показал, что статистически значимых различий между 2-мя метриками нет, однако принимая во внимание размер MDE, вероятность ошибки очень велика. \n",
    "\n",
    "\n",
    "Далее, мы сделали предположение, что различий между средними чеками в 2-х группах правда может не быть, а так как количество покупок в тестовой группе увеличилось, что можно предположить, что вырастет и общая прибыль с пользователя. Сравнение средних значений в 2-х группах также подвердило эту гипотезу (effect_size < MDE, p_value <0.05)\n",
    "\n",
    "\n",
    "Следовательно, пользователи в тестовой группе не просто покупают больше товаров, а еще и делают это по той же стоимости, что и пользователи в контрольной группе. В результате, это приносит платформе больше прибыли, что так же было статистически подтверждено. Поэтому можем сказать, что новая рекомендательная система очень полезна как для пользователя (теперь он чаще находит необходимые ему товары), так и для продукта (приносит ему дополнительную прибыль). **Можно провести еще одно тестирование, но с выборкой большего размера, и если результаты анализа также покажут, что различий между средними чеками в 2-х группах нет, то внедрять ее в production**"
   ]
  }
 ],
 "metadata": {
  "kernelspec": {
   "display_name": "Python 3",
   "language": "python",
   "name": "python3"
  },
  "language_info": {
   "codemirror_mode": {
    "name": "ipython",
    "version": 3
   },
   "file_extension": ".py",
   "mimetype": "text/x-python",
   "name": "python",
   "nbconvert_exporter": "python",
   "pygments_lexer": "ipython3",
   "version": "3.7.3"
  }
 },
 "nbformat": 4,
 "nbformat_minor": 4
}
